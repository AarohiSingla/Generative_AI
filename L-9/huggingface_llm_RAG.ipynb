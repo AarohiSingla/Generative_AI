{
 "cells": [
  {
   "cell_type": "code",
   "execution_count": 1,
   "id": "7d49c22a-1ad0-4395-b93b-aa95660aa026",
   "metadata": {},
   "outputs": [],
   "source": [
    "from langchain_community.document_loaders import UnstructuredURLLoader\n",
    "urls = ['https://www.livemint.com/economy/budget-2024-key-highlights-live-updates-nirmala-sitharaman-infrastructure-defence-income-tax-modi-budget-23-july-11721654502862.html',\n",
    "        'https://cleartax.in/s/budget-2024-highlights',\n",
    "        'https://www.hindustantimes.com/budget',\n",
    "        'https://economictimes.indiatimes.com/news/economy/policy/budget-2024-highlights-india-nirmala-sitharaman-capex-fiscal-deficit-tax-slab-key-announcement-in-union-budget-2024-25/articleshow/111942707.cms?from=mdr']\n",
    "loader = UnstructuredURLLoader(urls=urls)\n",
    "data = loader.load()  "
   ]
  },
  {
   "cell_type": "code",
   "execution_count": 2,
   "id": "a374eb7c-e262-42bb-8f3f-308ba7dcdbe4",
   "metadata": {},
   "outputs": [
    {
     "data": {
      "text/plain": [
       "4"
      ]
     },
     "execution_count": 2,
     "metadata": {},
     "output_type": "execute_result"
    }
   ],
   "source": [
    "len(data)"
   ]
  },
  {
   "cell_type": "code",
   "execution_count": 4,
   "id": "be3de203-f996-4a81-9c81-bd1501ad1aa0",
   "metadata": {},
   "outputs": [],
   "source": [
    "#data"
   ]
  },
  {
   "cell_type": "code",
   "execution_count": 6,
   "id": "29633e3b-ff24-4ace-a09b-c03b6e28c5cc",
   "metadata": {},
   "outputs": [
    {
     "name": "stdout",
     "output_type": "stream",
     "text": [
      "Total number of documents:  164\n"
     ]
    }
   ],
   "source": [
    "from langchain.text_splitter import RecursiveCharacterTextSplitter\n",
    "\n",
    "# split data\n",
    "text_splitter = RecursiveCharacterTextSplitter(chunk_size=1000)\n",
    "docs = text_splitter.split_documents(data)\n",
    "\n",
    "\n",
    "print(\"Total number of documents: \",len(docs))"
   ]
  },
  {
   "cell_type": "code",
   "execution_count": 7,
   "id": "100b7d1a-1209-49d4-99ed-c51bc233a938",
   "metadata": {},
   "outputs": [
    {
     "data": {
      "text/plain": [
       "Document(metadata={'source': 'https://www.livemint.com/economy/budget-2024-key-highlights-live-updates-nirmala-sitharaman-infrastructure-defence-income-tax-modi-budget-23-july-11721654502862.html'}, page_content='“It was an intriguing trading session. Key events like the Budget often set the tone for future trends, but today, the closing did not show significant changes. The impact of such events can sometimes be seen in the following sessions, making the next few days crucial. Observing the daily chart, the market shows a defined range. The upper end, marked by a bearish engulfing pattern formed on Friday at 24850, serves as a key resistance, followed by the psychological level of 25000. On the downside, the panic low around the 20EMA at 24100 - 24000 acts as a strong support zone. In our previous outlook, we highlighted the fresh sell signal by the RSI Smoothened in the overbought zone, which remains a key observation for our firm cautious stance. However, recent observations indicate that the bulls are very resilient and hard to give up. We expect the Index to hover within the 24000 - 25000 range and anticipate trending moves after some consolidation. In this scenario, it is advisable to')"
      ]
     },
     "execution_count": 7,
     "metadata": {},
     "output_type": "execute_result"
    }
   ],
   "source": [
    "docs[7]"
   ]
  },
  {
   "cell_type": "code",
   "execution_count": 8,
   "id": "7fbdb7ae-aafc-48f0-a4a9-c52e51fdfb60",
   "metadata": {
    "scrolled": true
   },
   "outputs": [
    {
     "name": "stderr",
     "output_type": "stream",
     "text": [
      "C:\\Users\\f\\anaconda3\\envs\\env_langchain1\\lib\\site-packages\\langchain_core\\_api\\deprecation.py:139: LangChainDeprecationWarning: The class `HuggingFaceEmbeddings` was deprecated in LangChain 0.2.2 and will be removed in 0.3.0. An updated version of the class exists in the langchain-huggingface package and should be used instead. To use it run `pip install -U langchain-huggingface` and import as `from langchain_huggingface import HuggingFaceEmbeddings`.\n",
      "  warn_deprecated(\n",
      "C:\\Users\\f\\anaconda3\\envs\\env_langchain1\\lib\\site-packages\\sentence_transformers\\cross_encoder\\CrossEncoder.py:11: TqdmExperimentalWarning: Using `tqdm.autonotebook.tqdm` in notebook mode. Use `tqdm.tqdm` instead to force console mode (e.g. in jupyter console)\n",
      "  from tqdm.autonotebook import tqdm, trange\n"
     ]
    },
    {
     "data": {
      "text/plain": [
       "[0.03492265194654465,\n",
       " 0.01883004419505596,\n",
       " -0.017854733392596245,\n",
       " 0.00013885056250728667,\n",
       " 0.07407364994287491]"
      ]
     },
     "execution_count": 8,
     "metadata": {},
     "output_type": "execute_result"
    }
   ],
   "source": [
    "# Embedding models: https://python.langchain.com/v0.1/docs/integrations/text_embedding/\n",
    "# Let's load the Hugging Face Embedding class.  sentence_transformers\n",
    "from langchain_community.embeddings import HuggingFaceEmbeddings\n",
    "embeddings = HuggingFaceEmbeddings()\n",
    "\n",
    "vector = embeddings.embed_query(\"hello, world!\")\n",
    "vector[:5]\n",
    "#vector"
   ]
  },
  {
   "cell_type": "code",
   "execution_count": 17,
   "id": "688b6e6a-d8ab-41fb-a665-b72c9c9b4026",
   "metadata": {},
   "outputs": [],
   "source": [
    "from langchain_chroma import Chroma\n",
    "vectorstore = Chroma.from_documents(documents=docs, embedding=HuggingFaceEmbeddings())"
   ]
  },
  {
   "cell_type": "code",
   "execution_count": 18,
   "id": "2c674c5c-1b57-42e9-a99d-9e882c75da2d",
   "metadata": {},
   "outputs": [],
   "source": [
    "retriever = vectorstore.as_retriever(search_type=\"similarity\", search_kwargs={\"k\": 3})\n",
    "\n",
    "retrieved_docs = retriever.invoke(\"Budget highlights\")"
   ]
  },
  {
   "cell_type": "code",
   "execution_count": 19,
   "id": "04c5c6bb-fd0e-45ec-b315-e3f7656e0329",
   "metadata": {},
   "outputs": [
    {
     "data": {
      "text/plain": [
       "3"
      ]
     },
     "execution_count": 19,
     "metadata": {},
     "output_type": "execute_result"
    }
   ],
   "source": [
    "len(retrieved_docs)"
   ]
  },
  {
   "cell_type": "code",
   "execution_count": 20,
   "id": "8a1c8321-1efd-4a11-9744-0d1a7c6f4e0a",
   "metadata": {},
   "outputs": [
    {
     "name": "stdout",
     "output_type": "stream",
     "text": [
      "25 Jul 2024, 08:43:33 AM IST\n",
      "\n",
      "Action-Packed Budget Session Ends with Minimal Change, says Rajesh Bhosale, Equity Technical Analyst, Angel One\n",
      "\n",
      "Rajesh Bhosale, Equity Technical Analyst, Angel One, said, “On the key Budget day, the Benchmark Index began on a positive note. However, as the day progressed, prices traded cautiously within a range, influenced by the Budget announcement. In the second half, volatility spiked, causing prices to drop sharply below 24100. Despite this, prices quickly rebounded, reclaiming lost ground and ending just below 24500 with a marginal loss of 0.14%.\"\n"
     ]
    }
   ],
   "source": [
    "print(retrieved_docs[2].page_content)"
   ]
  },
  {
   "cell_type": "code",
   "execution_count": 21,
   "id": "4af01de6-bb32-44ce-a01e-15e72f8e97c4",
   "metadata": {},
   "outputs": [
    {
     "data": {
      "application/vnd.jupyter.widget-view+json": {
       "model_id": "2993d1fd928c4620951379ca2e337957",
       "version_major": 2,
       "version_minor": 0
      },
      "text/plain": [
       "Loading checkpoint shards:   0%|          | 0/2 [00:00<?, ?it/s]"
      ]
     },
     "metadata": {},
     "output_type": "display_data"
    },
    {
     "name": "stderr",
     "output_type": "stream",
     "text": [
      "C:\\Users\\f\\anaconda3\\envs\\env_langchain1\\lib\\site-packages\\torch\\_utils.py:831: UserWarning: TypedStorage is deprecated. It will be removed in the future and UntypedStorage will be the only storage class. This should only matter to you if you are using storages directly.  To access UntypedStorage directly, use tensor.untyped_storage() instead of tensor.storage()\n",
      "  return self.fget.__get__(instance, owner)()\n"
     ]
    }
   ],
   "source": [
    "from langchain_huggingface import HuggingFacePipeline\n",
    "from langchain.prompts import PromptTemplate\n",
    "from transformers import pipeline\n",
    "from langchain_core.output_parsers import StrOutputParser\n",
    "import torch\n",
    "from transformers import AutoModelForCausalLM, AutoTokenizer\n",
    "\n",
    "\n",
    "#model_id = \"meta-llama/Meta-Llama-3-8B\"\n",
    "model_id = \"tiiuae/falcon-7b\"\n",
    "\n",
    "text_generation_pipeline = pipeline(\n",
    "    \"text-generation\", model=model_id, model_kwargs={\"torch_dtype\": torch.bfloat16}, max_new_tokens=400, device=0)\n",
    "\n",
    "llm = HuggingFacePipeline(pipeline=text_generation_pipeline)\n",
    "\n",
    "prompt_template = \"\"\"\n",
    "<|system|>\n",
    "Answer the question based on your knowledge. Use the following context to help:\n",
    "\n",
    "{context}\n",
    "\n",
    "</s>\n",
    "<|user|>\n",
    "{question}\n",
    "</s>\n",
    "<|assistant|>\n",
    "\n",
    " \"\"\"\n",
    "\n",
    "prompt = PromptTemplate(\n",
    "    input_variables=[\"context\", \"question\"],\n",
    "    template=prompt_template,\n",
    ")\n",
    "\n",
    "llm_chain = prompt | llm | StrOutputParser()"
   ]
  },
  {
   "cell_type": "code",
   "execution_count": 22,
   "id": "3ac3ae8d-d987-41d9-9eb0-4f4f9a099ce0",
   "metadata": {},
   "outputs": [],
   "source": [
    "from langchain_core.runnables import RunnablePassthrough\n",
    "\n",
    "rag_chain = {\"context\": retriever, \"question\": RunnablePassthrough()} | llm_chain"
   ]
  },
  {
   "cell_type": "code",
   "execution_count": 23,
   "id": "19f1e96e-57e7-4274-bede-77dcee282dbd",
   "metadata": {},
   "outputs": [],
   "source": [
    "question = \"2024 Budget Highlights\""
   ]
  },
  {
   "cell_type": "code",
   "execution_count": 24,
   "id": "392ea3b8-8389-4927-a207-ed70c70c8f3c",
   "metadata": {
    "scrolled": true
   },
   "outputs": [
    {
     "name": "stderr",
     "output_type": "stream",
     "text": [
      "Setting `pad_token_id` to `eos_token_id`:11 for open-end generation.\n"
     ]
    },
    {
     "data": {
      "text/plain": [
       "'\\n<|system|>\\nAnswer the question based on your knowledge. Use the following context to help:\\n\\n[Document(metadata={\\'source\\': \\'https://www.livemint.com/economy/budget-2024-key-highlights-live-updates-nirmala-sitharaman-infrastructure-defence-income-tax-modi-budget-23-july-11721654502862.html\\'}, page_content=\\'24 Jul 2024, 04:21:26 PM IST\\\\n\\\\nBudget 2024 Key Highlights Live Updates: Rajeev Tiwari, Co founder of STEMROBO Technologies, said\\\\n\\\\nBudget 2024 Key Highlights Live Updates: \"The Union Budget 2024 focuses on the provisions for the education and startup sectors, reflecting an approach to boost economic growth and development. The budget allocation for education stands at ₹1.48 lakh crore, marking an increase aimed at enhancing educational infrastructure, skilling, and employment opportunities.\\'), Document(metadata={\\'source\\': \\'https://www.livemint.com/economy/budget-2024-key-highlights-live-updates-nirmala-sitharaman-infrastructure-defence-income-tax-modi-budget-23-july-11721654502862.html\\'}, page_content=\\'24 Jul 2024, 04:21:26 PM IST\\\\n\\\\nBudget 2024 Key Highlights Live Updates: Rajeev Tiwari, Co founder of STEMROBO Technologies, said\\\\n\\\\nBudget 2024 Key Highlights Live Updates: \"The Union Budget 2024 focuses on the provisions for the education and startup sectors, reflecting an approach to boost economic growth and development. The budget allocation for education stands at ₹1.48 lakh crore, marking an increase aimed at enhancing educational infrastructure, skilling, and employment opportunities.\\'), Document(metadata={\\'source\\': \\'https://www.livemint.com/economy/budget-2024-key-highlights-live-updates-nirmala-sitharaman-infrastructure-defence-income-tax-modi-budget-23-july-11721654502862.html\\'}, page_content=\"24 Jul 2024, 02:00:05 PM IST\\\\n\\\\nBudget 2024 Key Highlights Live Updates: Jayesh Jain highlights transformative budget for economic growth and fintech sector\\\\n\\\\nJayesh Jain, Group CFO of Balancehero India, praised the Union Budget 2024 as a transformative step towards strengthening India\\'s economic fabric, emphasizing employment, skilling, and MSMEs. The allocation of ₹2 lakh crore for job and skill development schemes over the next five years is set to empower the youth and foster a skilled workforce, essential for driving innovation in the fintech sector. Jain highlighted the budget\\'s focus on social justice and inclusive human resource development, ensuring growth benefits reach every segment of society.\")]\\n\\n</s>\\n<|user|>\\n2024 Budget Highlights\\n</s>\\n<|assistant|>\\n\\n <|system|>\\nAnswer the question based on your knowledge. Use the following context to help:\\n\\n[Document(metadata={\\'source\\': \\'https://www.livemint.com/economy/budget-2024-key-highlights-live-updates-nirmala-sitharaman-infrastructure-defence-income-tax-modi-budget-23-july-11721654502862.html\\'}, page_content=\\'24 Jul 2024, 04:21:26 PM IST\\\\n\\\\nBudget 2024 Key Highlights Live Updates: \"The Union Budget 2024 focuses on the provisions for the education and startup sectors, reflecting an approach to boost economic growth and development. The budget allocation for education stands at ₹1.48 lakh crore, marking an increase aimed at enhancing educational infrastructure, skilling, and employment opportunities.\"), Document(metadata={\\'source\\': \\'https://www.livemint.com/economy/budget-2024-key-highlights-live-updates-nirmala-sitharaman-infrastructure-defence-income-tax-modi-budget-23-july-11721654502862.html\\'}, page_content=\\'24 Jul 2024, 04:21:26 PM IST\\\\n\\\\nBudget 2024 Key Highlights Live Updates: \"The Union Budget 2024 focuses on the provisions for the education and startup sectors, reflecting an approach to boost economic growth and development. The budget allocation for education stands at ₹1.48 lakh crore, marking an increase aimed at enhancing educational infrastructure, skilling, and employment opportunities.\"), Document(metadata={\\'source\\': \\'https://www.livemint.com/economy/budget-2024-key-highlights-live-updates-nirmala-sitharaman-'"
      ]
     },
     "execution_count": 24,
     "metadata": {},
     "output_type": "execute_result"
    }
   ],
   "source": [
    "rag_chain.invoke(question)"
   ]
  },
  {
   "cell_type": "code",
   "execution_count": 26,
   "id": "30b37f59-9621-4c17-9b4e-5a2705df3c40",
   "metadata": {},
   "outputs": [
    {
     "name": "stderr",
     "output_type": "stream",
     "text": [
      "Setting `pad_token_id` to `eos_token_id`:11 for open-end generation.\n"
     ]
    },
    {
     "name": "stdout",
     "output_type": "stream",
     "text": [
      "Response: <|system|>\n",
      "Answer the question based on your knowledge. Use the following context to help:\n",
      "\n",
      "[Document(metadata={'source': 'https://www.livemint.com/economy/budget-2024-key-highlights-live-updates-nirmala-sitharaman-infrastructure-defence-income-tax-modi-budget-23-july-11721654502862.html'}, page_content='24 Jul 2024, 04:21:26 PM IST\\n\\nBudget 2024 Key Highlights Live Updates: Rajeev Tiwari, Co founder of STEMROBO Technologies, said\\n\\nBudget 2024 Key Highlights Live Updates: \"The Union Budget 2024 focuses on the provisions for the education and startup sectors, reflecting an approach to boost economic growth and development. The budget allocation for education stands at ₹1.48 lakh crore, marking an increase aimed at enhancing educational infrastructure, skilling, and employment opportunities.'), Document(metadata={'source': 'https://www.livemint.com/economy/budget-2024-key-highlights-live-updates-nirmala-sitharaman-infrastructure-defence-income-tax-modi-budget-23-july-11721654502862.html'}, page_content='24 Jul 2024, 04:21:26 PM IST\\n\\nBudget 2024 Key Highlights Live Updates: Rajeev Tiwari, Co founder of STEMROBO Technologies, said\\n\\nBudget 2024 Key Highlights Live Updates: \"The Union Budget 2024 focuses on the provisions for the education and startup sectors, reflecting an approach to boost economic growth and development. The budget allocation for education stands at ₹1.48 lakh crore, marking an increase aimed at enhancing educational infrastructure, skilling, and employment opportunities.'), Document(metadata={'source': 'https://www.livemint.com/economy/budget-2024-key-highlights-live-updates-nirmala-sitharaman-infrastructure-defence-income-tax-modi-budget-23-july-11721654502862.html'}, page_content=\"24 Jul 2024, 02:00:05 PM IST\\n\\nBudget 2024 Key Highlights Live Updates: Jayesh Jain highlights transformative budget for economic growth and fintech sector\\n\\nJayesh Jain, Group CFO of Balancehero India, praised the Union Budget 2024 as a transformative step towards strengthening India's economic fabric, emphasizing employment, skilling, and MSMEs. The allocation of ₹2 lakh crore for job and skill development schemes over the next five years is set to empower the youth and foster a skilled workforce, essential for driving innovation in the fintech sector. Jain highlighted the budget's focus on social justice and inclusive human resource development, ensuring growth benefits reach every segment of society.\")]\n",
      "\n",
      "\n",
      "<|user|>\n",
      "2024 Budget Highlights\n",
      "\n",
      "<|assistant|>\n",
      "\n",
      " <|system|>\n",
      "Answer the question based on your knowledge. Use the following context to help:\n",
      "\n",
      "[Document(metadata={'source': 'https://www.livemint.com/economy/budget-2024-key-highlights-live-updates-nirmala-sitharaman-infrastructure-defence-income-tax-modi-budget-23-july-11721654502862.html'}, page_content='24 Jul 2024, 04:21:26 PM IST\\n\\nBudget 2024 Key Highlights Live Updates: \"The Union Budget 2024 focuses on the provisions for the education and startup sectors, reflecting an approach to boost economic growth and development. The budget allocation for education stands at ₹1.48 lakh crore, marking an increase aimed at enhancing educational infrastructure, skilling, and employment opportunities.\"), Document(metadata={'source': 'https://www.livemint.com/economy/budget-2024-key-highlights-live-updates-nirmala-sitharaman-infrastructure-defence-income-tax-modi-budget-23-july-11721654502862.html'}, page_content='24 Jul 2024, 04:21:26 PM IST\\n\\nBudget 2024 Key Highlights Live Updates: \"The Union Budget 2024 focuses on the provisions for the education and startup sectors, reflecting an approach to boost economic growth and development. The budget allocation for education stands at ₹1.48 lakh crore, marking an increase aimed at enhancing educational infrastructure, skilling, and employment opportunities.\"), Document(metadata={'source': 'https://www.livemint.com/economy/budget-2024-key-highlights-live-updates-nirmala-sitharaman-\n"
     ]
    }
   ],
   "source": [
    "question = \"2024 Budget Highlights\"\n",
    "response = rag_chain.invoke(question)\n",
    "\n",
    "# Making the response readable\n",
    "response = response.replace(\"</s>\", \"\").strip()\n",
    "print(\"Response:\", response)\n",
    "\n"
   ]
  },
  {
   "cell_type": "code",
   "execution_count": null,
   "id": "4a60395f-c06d-4b79-b041-6445468766dd",
   "metadata": {},
   "outputs": [],
   "source": []
  },
  {
   "cell_type": "code",
   "execution_count": 33,
   "id": "5605402f-fd76-4fd0-a530-956134f75dd3",
   "metadata": {},
   "outputs": [
    {
     "name": "stderr",
     "output_type": "stream",
     "text": [
      "Setting `pad_token_id` to `eos_token_id`:11 for open-end generation.\n"
     ]
    },
    {
     "name": "stdout",
     "output_type": "stream",
     "text": [
      "Response: <|system|>\n",
      "Answer the question based on your knowledge. Use the following context to help:\n",
      "\n",
      "[Document(metadata={'source': 'https://www.livemint.com/economy/budget-2024-key-highlights-live-updates-nirmala-sitharaman-infrastructure-defence-income-tax-modi-budget-23-july-11721654502862.html'}, page_content='48 min read . Updated: 25 Jul 2024, 08:43 AM IST\\n\\nLivemint, Written By Ankit Gohel, Anubhav Mukherjee, Shivangini\\n\\nBudget 2024 Key Highlights: Finance Minister Nirmala Sitharaman presented the Union Budget 2024-25 in the Lok Sabha today. FM listed out roadmap for nine priorities for India opportunity.\\n\\nPremium\\n\\nRead Full Story\\n\\nBudget 2024 Key Highlights: Finance Minister Nirmala Sitharaman announced the Union Budget 2024-25 in the parliament on July 23. The Budget focused on provisioning for the agricultural sector, the introduction of schemes related to employment, loan schemes, announcements for financial support to the MSME sector, infrastructural development, and fiscal deficit projection at 4.9% with a commitment to reducing it down to 4.5%.'), Document(metadata={'source': 'https://www.livemint.com/economy/budget-2024-key-highlights-live-updates-nirmala-sitharaman-infrastructure-defence-income-tax-modi-budget-23-july-11721654502862.html'}, page_content='48 min read . Updated: 25 Jul 2024, 08:43 AM IST\\n\\nLivemint, Written By Ankit Gohel, Anubhav Mukherjee, Shivangini\\n\\nBudget 2024 Key Highlights: Finance Minister Nirmala Sitharaman presented the Union Budget 2024-25 in the Lok Sabha today. FM listed out roadmap for nine priorities for India opportunity.\\n\\nPremium\\n\\nRead Full Story\\n\\nBudget 2024 Key Highlights: Finance Minister Nirmala Sitharaman announced the Union Budget 2024-25 in the parliament on July 23. The Budget focused on provisioning for the agricultural sector, the introduction of schemes related to employment, loan schemes, announcements for financial support to the MSME sector, infrastructural development, and fiscal deficit projection at 4.9% with a commitment to reducing it down to 4.5%.'), Document(metadata={'source': 'https://www.livemint.com/economy/budget-2024-key-highlights-live-updates-nirmala-sitharaman-infrastructure-defence-income-tax-modi-budget-23-july-11721654502862.html'}, page_content='24 Jul 2024, 04:21:26 PM IST\\n\\nBudget 2024 Key Highlights Live Updates: Rajeev Tiwari, Co founder of STEMROBO Technologies, said\\n\\nBudget 2024 Key Highlights Live Updates: \"The Union Budget 2024 focuses on the provisions for the education and startup sectors, reflecting an approach to boost economic growth and development. The budget allocation for education stands at ₹1.48 lakh crore, marking an increase aimed at enhancing educational infrastructure, skilling, and employment opportunities.')]\n",
      "\n",
      "\n",
      "<|user|>\n",
      "What is the Union Budget?\n",
      "\n",
      "<|assistant|>\n",
      "\n",
      " <|system|>\n",
      "Answer the question based on your knowledge. Use the following context to help:\n",
      "\n",
      "[Document(metadata={'source': 'https://www.livemint.com/economy/budget-2024-key-highlights-live-updates-nirmala-sitharaman-infrastructure-defence-income-tax-modi-budget-23-july-11721654502862.html'}, page_content='48 min read. Updated: 25 Jul 2024, 08:43 AM IST\\n\\nLivemint, Written By Ankit Gohel, Anubhav Mukherjee, Shivangini\\n\\nBudget 2024 Key Highlights: Finance Minister Nirmala Sitharaman presented the Union Budget 2024-25 in the Lok Sabha today. FM listed out roadmap for nine priorities for India opportunity.\\n\\nPremium\\n\\nRead Full Story\\n\\nBudget 2024 Key Highlights: Finance Minister Nirmala Sitharaman announced the Union Budget 2024-25 in the parliament on July 23. The Budget focused on provisioning for the agricultural sector, the introduction of schemes related to employment, loan schemes, announcements for financial support to the MSME sector, infrastructural development, and fiscal deficit projection at 4.9% with a commitment to reducing it down to 4.5%.'), Document(metadata={'source': 'https://www.livemint.com/economy/budget-2024-key-highlights-live-updates-nirmala-sitharaman-infrastructure-defence-income-tax-modi-budget-23-july-11721654502862.html'}, page_content='24 Jul 2024, 04:21:26 PM IST\\n\\nBudget 202\n"
     ]
    }
   ],
   "source": [
    "question = \"What is the Union Budget?\"\n",
    "response = rag_chain.invoke(question)\n",
    "\n",
    "# Making the response readable\n",
    "response = response.replace(\"</s>\", \"\").strip()\n",
    "print(\"Response:\", response)"
   ]
  },
  {
   "cell_type": "code",
   "execution_count": null,
   "id": "04d7f1bd-e761-40af-bb32-34014a1b296b",
   "metadata": {},
   "outputs": [],
   "source": []
  },
  {
   "cell_type": "code",
   "execution_count": 27,
   "id": "c6baa476-160d-4132-a860-ca42e8e99342",
   "metadata": {},
   "outputs": [
    {
     "name": "stderr",
     "output_type": "stream",
     "text": [
      "Hardware accelerator e.g. GPU is available in the environment, but no `device` argument is passed to the `Pipeline` object. Model will be on CPU.\n"
     ]
    }
   ],
   "source": [
    "from langchain_huggingface import HuggingFacePipeline\n",
    "from langchain.prompts import PromptTemplate\n",
    "from transformers import pipeline\n",
    "from langchain_core.output_parsers import StrOutputParser\n",
    "import torch\n",
    "from transformers import AutoModelForCausalLM, AutoTokenizer\n",
    "\n",
    "\n",
    "model_name = \"EleutherAI/gpt-neo-1.3B\"\n",
    "model = AutoModelForCausalLM.from_pretrained(model_name)\n",
    "tokenizer = AutoTokenizer.from_pretrained(model_name)\n",
    "\n",
    "text_generation_pipeline = pipeline(\n",
    "    model=model,\n",
    "    tokenizer=tokenizer,\n",
    "    task=\"text-generation\",\n",
    "    temperature=0.1,\n",
    "    do_sample=True,\n",
    "    repetition_penalty=1.1,\n",
    "    return_full_text=True,\n",
    "    max_new_tokens=400,\n",
    ")\n",
    "llm = HuggingFacePipeline(pipeline=text_generation_pipeline)\n"
   ]
  },
  {
   "cell_type": "code",
   "execution_count": 28,
   "id": "7cff65d0-2436-47f8-8572-6979a3378701",
   "metadata": {},
   "outputs": [],
   "source": [
    "\n",
    "\n",
    "prompt_template = \"\"\"\n",
    "<|system|>\n",
    "Answer the question based on your knowledge. Use the following context to help:\n",
    "\n",
    "{context}\n",
    "\n",
    "</s>\n",
    "<|user|>\n",
    "{question}\n",
    "</s>\n",
    "<|assistant|>\n",
    "\n",
    " \"\"\"\n",
    "\n",
    "prompt = PromptTemplate(\n",
    "    input_variables=[\"context\", \"question\"],\n",
    "    template=prompt_template,\n",
    ")\n",
    "\n"
   ]
  },
  {
   "cell_type": "code",
   "execution_count": 29,
   "id": "36f9c819-e4df-43b9-93df-a462a89a2a92",
   "metadata": {},
   "outputs": [],
   "source": [
    "llm_chain = prompt | llm | StrOutputParser()"
   ]
  },
  {
   "cell_type": "code",
   "execution_count": 30,
   "id": "e3460fb6-31f0-41e9-b5f9-863d4bd579ec",
   "metadata": {},
   "outputs": [],
   "source": [
    "from langchain_core.runnables import RunnablePassthrough\n",
    "rag_chain = {\"context\": retriever, \"question\": RunnablePassthrough()} | llm_chain"
   ]
  },
  {
   "cell_type": "code",
   "execution_count": 32,
   "id": "465785b8-dc36-4e5d-bce6-41191a034a7d",
   "metadata": {},
   "outputs": [
    {
     "name": "stderr",
     "output_type": "stream",
     "text": [
      "Setting `pad_token_id` to `eos_token_id`:50256 for open-end generation.\n"
     ]
    }
   ],
   "source": [
    "question = \"What is the Union Budget?\"\n",
    "\n",
    "response = rag_chain.invoke(question)\n",
    "\n",
    "# Making the response readable\n",
    "response = response.replace(\"</s>\", \"\").strip()\n",
    "print(\"Response:\", response)"
   ]
  },
  {
   "cell_type": "code",
   "execution_count": null,
   "id": "ba32518d-e8d9-4577-a3fc-d1f3398e3236",
   "metadata": {},
   "outputs": [],
   "source": []
  },
  {
   "cell_type": "code",
   "execution_count": null,
   "id": "276b9599-521b-4df9-b9a1-78adf71c58bf",
   "metadata": {},
   "outputs": [],
   "source": []
  }
 ],
 "metadata": {
  "kernelspec": {
   "display_name": "Python 3 (ipykernel)",
   "language": "python",
   "name": "python3"
  },
  "language_info": {
   "codemirror_mode": {
    "name": "ipython",
    "version": 3
   },
   "file_extension": ".py",
   "mimetype": "text/x-python",
   "name": "python",
   "nbconvert_exporter": "python",
   "pygments_lexer": "ipython3",
   "version": "3.10.14"
  }
 },
 "nbformat": 4,
 "nbformat_minor": 5
}
