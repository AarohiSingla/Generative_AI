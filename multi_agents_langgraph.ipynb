{
 "cells": [
  {
   "cell_type": "code",
   "execution_count": 1,
   "metadata": {
    "colab": {
     "base_uri": "https://localhost:8080/"
    },
    "id": "uSd1beaS6prz",
    "outputId": "970c9863-e41e-41c9-c87c-8ef49027d5f1"
   },
   "outputs": [],
   "source": [
    "!pip install langgraph-supervisor langchain-openai"
   ]
  },
  {
   "cell_type": "code",
   "execution_count": 2,
   "metadata": {
    "id": "UK3now8z7Gjb"
   },
   "outputs": [],
   "source": [
    "from langchain_openai import ChatOpenAI\n",
    "\n",
    "from langgraph_supervisor import create_supervisor\n",
    "from langgraph.prebuilt import create_react_agent\n",
    "\n",
    "\n",
    "# Initialize OpenAI model\n",
    "model = ChatOpenAI(temperature=0, api_key=\"sk-pro*********************QHrtvM7\", model=\"gpt-4o-mini\")\n"
   ]
  },
  {
   "cell_type": "code",
   "execution_count": 2,
   "metadata": {
    "colab": {
     "base_uri": "https://localhost:8080/"
    },
    "id": "xXDIM9fC72Ca",
    "outputId": "593e1207-520f-4b52-d2ce-2de34de267de"
   },
   "outputs": [],
   "source": [
    "!pip install -U duckduckgo-search"
   ]
  },
  {
   "cell_type": "code",
   "execution_count": 3,
   "metadata": {
    "colab": {
     "base_uri": "https://localhost:8080/"
    },
    "id": "xYYADL3G8WLQ",
    "outputId": "b53dac69-2b38-4987-801a-ac3c860c0d03"
   },
   "outputs": [],
   "source": [
    "!pip install langchain langchain_community langgraph"
   ]
  },
  {
   "cell_type": "code",
   "execution_count": 7,
   "metadata": {
    "id": "optBAxTG7996"
   },
   "outputs": [],
   "source": [
    "from langchain_community.tools import DuckDuckGoSearchRun\n",
    "\n",
    "def search_duckduckgo(query: str):\n",
    "    \"\"\"Searches DuckDuckGo using LangChain's DuckDuckGoSearchRun tool.\"\"\"\n",
    "    search = DuckDuckGoSearchRun()\n",
    "    return search.invoke(query)\n",
    "\n",
    "# Example usage\n",
    "# result = search_duckduckgo(\"what are AI agent\")\n",
    "# print(result)\n",
    "\n",
    "def add(a: float, b: float) -> float:\n",
    "    \"\"\"Add two numbers.\"\"\"\n",
    "    return a + b\n",
    "\n",
    "def multiply(a: float, b: float) -> float:\n",
    "    \"\"\"Multiply two numbers.\"\"\"\n",
    "    return a * b"
   ]
  },
  {
   "cell_type": "code",
   "execution_count": 8,
   "metadata": {
    "id": "ysJZqDKJ8xE0"
   },
   "outputs": [],
   "source": [
    "\n",
    "from langgraph_supervisor import create_supervisor\n",
    "from langgraph.prebuilt import create_react_agent\n",
    "\n",
    "math_agent = create_react_agent(\n",
    "    model=model,\n",
    "    tools=[add, multiply],\n",
    "    name=\"math_expert\",\n",
    "    prompt=\"You are a math expert. Always use one tool at a time.\"\n",
    ")\n"
   ]
  },
  {
   "cell_type": "code",
   "execution_count": 10,
   "metadata": {
    "id": "WA15T4mh9KWo"
   },
   "outputs": [],
   "source": [
    "research_agent = create_react_agent(\n",
    "    model=model,\n",
    "    tools=[search_duckduckgo],\n",
    "    name=\"research_expert\",\n",
    "    prompt=\"You are a world class researcher with access to web search. Do not do any math.\"\n",
    ")\n"
   ]
  },
  {
   "cell_type": "code",
   "execution_count": 11,
   "metadata": {
    "id": "ggOCjGEe9hEO"
   },
   "outputs": [],
   "source": [
    "# Create supervisor workflow\n",
    "workflow = create_supervisor(\n",
    "    [research_agent, math_agent],\n",
    "    model=model,\n",
    "    prompt=(\n",
    "        \"You are a team supervisor managing a research expert and a math expert. \"\n",
    "        \"For current events, use research_agent. \"\n",
    "        \"For math problems, use math_agent.\"\n",
    "    )\n",
    ")"
   ]
  },
  {
   "cell_type": "code",
   "execution_count": 12,
   "metadata": {
    "id": "vxHZG5-x90yk"
   },
   "outputs": [],
   "source": [
    "# Compile and run\n",
    "app = workflow.compile()\n",
    "\n",
    "result = app.invoke({\n",
    "    \"messages\": [\n",
    "        {\n",
    "            \"role\": \"user\",\n",
    "            \"content\": \"what is quantum computing?\"\n",
    "        }\n",
    "    ]\n",
    "})"
   ]
  },
  {
   "cell_type": "code",
   "execution_count": 13,
   "metadata": {
    "colab": {
     "base_uri": "https://localhost:8080/"
    },
    "id": "JmW5TiI4-Az5",
    "outputId": "46273eed-f458-4469-fe97-ceb3ce4b091b"
   },
   "outputs": [
    {
     "data": {
      "text/plain": [
       "{'messages': [HumanMessage(content='what is quantum computing?', additional_kwargs={}, response_metadata={}, id='df4517a2-0964-47e2-924d-fc7aed61e5ee'),\n",
       "  AIMessage(content='', additional_kwargs={'tool_calls': [{'id': 'call_wansmCLuYn85BZ0UPabmpLmV', 'function': {'arguments': '{}', 'name': 'transfer_to_research_expert'}, 'type': 'function'}], 'refusal': None}, response_metadata={'token_usage': {'completion_tokens': 15, 'prompt_tokens': 93, 'total_tokens': 108, 'completion_tokens_details': {'accepted_prediction_tokens': 0, 'audio_tokens': 0, 'reasoning_tokens': 0, 'rejected_prediction_tokens': 0}, 'prompt_tokens_details': {'audio_tokens': 0, 'cached_tokens': 0}}, 'model_name': 'gpt-4o-mini-2024-07-18', 'system_fingerprint': 'fp_00428b782a', 'finish_reason': 'tool_calls', 'logprobs': None}, name='supervisor', id='run-082eb49c-ac8b-4719-9cdf-f257e7b54ef6-0', tool_calls=[{'name': 'transfer_to_research_expert', 'args': {}, 'id': 'call_wansmCLuYn85BZ0UPabmpLmV', 'type': 'tool_call'}], usage_metadata={'input_tokens': 93, 'output_tokens': 15, 'total_tokens': 108, 'input_token_details': {'audio': 0, 'cache_read': 0}, 'output_token_details': {'audio': 0, 'reasoning': 0}}),\n",
       "  ToolMessage(content='Successfully transferred to research_expert', name='transfer_to_research_expert', id='4d77575d-0cde-43cc-b2e7-fb9b2a535a40', tool_call_id='call_wansmCLuYn85BZ0UPabmpLmV'),\n",
       "  AIMessage(content='Quantum computing is a type of computing that utilizes the principles of quantum mechanics to process information. Unlike classical computers, which use bits as the smallest unit of data (where each bit can be either 0 or 1), quantum computers use qubits. A qubit can exist in multiple states simultaneously, thanks to phenomena such as superposition and entanglement.\\n\\nThis unique capability allows quantum computers to solve certain complex problems much faster than classical computers. Quantum computing is particularly promising for tasks that involve large datasets, optimization problems, and simulations of quantum systems. The field is still developing, with ongoing research into quantum algorithms, hardware, and applications across various industries.', additional_kwargs={'refusal': None}, response_metadata={'token_usage': {'completion_tokens': 133, 'prompt_tokens': 339, 'total_tokens': 472, 'completion_tokens_details': {'accepted_prediction_tokens': 0, 'audio_tokens': 0, 'reasoning_tokens': 0, 'rejected_prediction_tokens': 0}, 'prompt_tokens_details': {'audio_tokens': 0, 'cached_tokens': 0}}, 'model_name': 'gpt-4o-mini-2024-07-18', 'system_fingerprint': 'fp_13eed4fce1', 'finish_reason': 'stop', 'logprobs': None}, name='research_expert', id='run-03bc2b26-4ad4-4663-bd54-c037365633af-0', usage_metadata={'input_tokens': 339, 'output_tokens': 133, 'total_tokens': 472, 'input_token_details': {'audio': 0, 'cache_read': 0}, 'output_token_details': {'audio': 0, 'reasoning': 0}}),\n",
       "  AIMessage(content='Transferring back to supervisor', additional_kwargs={}, response_metadata={}, name='research_expert', id='53dd4288-9f04-4394-a76b-f17833035c8f', tool_calls=[{'name': 'transfer_back_to_supervisor', 'args': {}, 'id': 'f7ba8fd4-ff8e-4196-b561-19b32627eea4', 'type': 'tool_call'}]),\n",
       "  ToolMessage(content='Successfully transferred back to supervisor', name='transfer_back_to_supervisor', id='4dc35b14-162c-4c52-b0ed-dca7eb03b860', tool_call_id='f7ba8fd4-ff8e-4196-b561-19b32627eea4'),\n",
       "  AIMessage(content='I have provided an overview of quantum computing. If you have any further questions or need more details, feel free to ask!', additional_kwargs={'refusal': None}, response_metadata={'token_usage': {'completion_tokens': 27, 'prompt_tokens': 314, 'total_tokens': 341, 'completion_tokens_details': {'accepted_prediction_tokens': 0, 'audio_tokens': 0, 'reasoning_tokens': 0, 'rejected_prediction_tokens': 0}, 'prompt_tokens_details': {'audio_tokens': 0, 'cached_tokens': 0}}, 'model_name': 'gpt-4o-mini-2024-07-18', 'system_fingerprint': 'fp_13eed4fce1', 'finish_reason': 'stop', 'logprobs': None}, name='supervisor', id='run-37a6d93c-9705-4781-b8b8-e10971488edb-0', usage_metadata={'input_tokens': 314, 'output_tokens': 27, 'total_tokens': 341, 'input_token_details': {'audio': 0, 'cache_read': 0}, 'output_token_details': {'audio': 0, 'reasoning': 0}})]}"
      ]
     },
     "execution_count": 13,
     "metadata": {},
     "output_type": "execute_result"
    }
   ],
   "source": [
    "result"
   ]
  },
  {
   "cell_type": "code",
   "execution_count": 14,
   "metadata": {
    "colab": {
     "base_uri": "https://localhost:8080/"
    },
    "id": "75iM3duu-Cvt",
    "outputId": "748bcfdc-1b79-4a0a-c443-3843e09adda0"
   },
   "outputs": [
    {
     "name": "stdout",
     "output_type": "stream",
     "text": [
      "================================\u001b[1m Human Message \u001b[0m=================================\n",
      "\n",
      "what is quantum computing?\n",
      "==================================\u001b[1m Ai Message \u001b[0m==================================\n",
      "Name: supervisor\n",
      "Tool Calls:\n",
      "  transfer_to_research_expert (call_wansmCLuYn85BZ0UPabmpLmV)\n",
      " Call ID: call_wansmCLuYn85BZ0UPabmpLmV\n",
      "  Args:\n",
      "=================================\u001b[1m Tool Message \u001b[0m=================================\n",
      "Name: transfer_to_research_expert\n",
      "\n",
      "Successfully transferred to research_expert\n",
      "==================================\u001b[1m Ai Message \u001b[0m==================================\n",
      "Name: research_expert\n",
      "\n",
      "Quantum computing is a type of computing that utilizes the principles of quantum mechanics to process information. Unlike classical computers, which use bits as the smallest unit of data (where each bit can be either 0 or 1), quantum computers use qubits. A qubit can exist in multiple states simultaneously, thanks to phenomena such as superposition and entanglement.\n",
      "\n",
      "This unique capability allows quantum computers to solve certain complex problems much faster than classical computers. Quantum computing is particularly promising for tasks that involve large datasets, optimization problems, and simulations of quantum systems. The field is still developing, with ongoing research into quantum algorithms, hardware, and applications across various industries.\n",
      "==================================\u001b[1m Ai Message \u001b[0m==================================\n",
      "Name: research_expert\n",
      "\n",
      "Transferring back to supervisor\n",
      "Tool Calls:\n",
      "  transfer_back_to_supervisor (f7ba8fd4-ff8e-4196-b561-19b32627eea4)\n",
      " Call ID: f7ba8fd4-ff8e-4196-b561-19b32627eea4\n",
      "  Args:\n",
      "=================================\u001b[1m Tool Message \u001b[0m=================================\n",
      "Name: transfer_back_to_supervisor\n",
      "\n",
      "Successfully transferred back to supervisor\n",
      "==================================\u001b[1m Ai Message \u001b[0m==================================\n",
      "Name: supervisor\n",
      "\n",
      "I have provided an overview of quantum computing. If you have any further questions or need more details, feel free to ask!\n"
     ]
    }
   ],
   "source": [
    "for m in result[\"messages\"]:\n",
    "    m.pretty_print()"
   ]
  },
  {
   "cell_type": "code",
   "execution_count": 15,
   "metadata": {
    "colab": {
     "base_uri": "https://localhost:8080/"
    },
    "id": "caLWpUN9-hrO",
    "outputId": "effff469-9802-4b28-f7d1-60421b414cce"
   },
   "outputs": [
    {
     "name": "stdout",
     "output_type": "stream",
     "text": [
      "================================\u001b[1m Human Message \u001b[0m=================================\n",
      "\n",
      "what is the weather in delhi today. Multiply it by 2 and add 5\n",
      "==================================\u001b[1m Ai Message \u001b[0m==================================\n",
      "Name: supervisor\n",
      "Tool Calls:\n",
      "  transfer_to_research_expert (call_AxW3KuprH0hwdYXz0bnH3T52)\n",
      " Call ID: call_AxW3KuprH0hwdYXz0bnH3T52\n",
      "  Args:\n",
      "=================================\u001b[1m Tool Message \u001b[0m=================================\n",
      "Name: transfer_to_research_expert\n",
      "\n",
      "Successfully transferred to research_expert\n",
      "==================================\u001b[1m Ai Message \u001b[0m==================================\n",
      "Name: research_expert\n",
      "\n",
      "Today in Delhi, the weather is warm and sunny with a current temperature of 13°C. The maximum temperature is expected to reach 26°C, while the minimum may drop to 10°C. There is no chance of rain in the morning, and winds are blowing at 5 km/h.\n",
      "==================================\u001b[1m Ai Message \u001b[0m==================================\n",
      "Name: research_expert\n",
      "\n",
      "Transferring back to supervisor\n",
      "Tool Calls:\n",
      "  transfer_back_to_supervisor (df935c74-341d-41ab-826d-05fc0f69b588)\n",
      " Call ID: df935c74-341d-41ab-826d-05fc0f69b588\n",
      "  Args:\n",
      "=================================\u001b[1m Tool Message \u001b[0m=================================\n",
      "Name: transfer_back_to_supervisor\n",
      "\n",
      "Successfully transferred back to supervisor\n",
      "==================================\u001b[1m Ai Message \u001b[0m==================================\n",
      "Name: supervisor\n",
      "Tool Calls:\n",
      "  transfer_to_math_expert (call_BwHusv28pciiOrFlE6QouFvK)\n",
      " Call ID: call_BwHusv28pciiOrFlE6QouFvK\n",
      "  Args:\n",
      "=================================\u001b[1m Tool Message \u001b[0m=================================\n",
      "Name: transfer_to_math_expert\n",
      "\n",
      "Successfully transferred to math_expert\n",
      "==================================\u001b[1m Ai Message \u001b[0m==================================\n",
      "Name: math_expert\n",
      "\n",
      "The results are as follows:\n",
      "\n",
      "- Multiplying the temperature (13°C) by 2 gives you 26.\n",
      "- Adding 5 to the temperature (13°C) gives you 18.\n",
      "\n",
      "So, the final results are 26 and 18.\n",
      "==================================\u001b[1m Ai Message \u001b[0m==================================\n",
      "Name: math_expert\n",
      "\n",
      "Transferring back to supervisor\n",
      "Tool Calls:\n",
      "  transfer_back_to_supervisor (ee1461a5-7156-49d8-9805-3c6d3f60a7e8)\n",
      " Call ID: ee1461a5-7156-49d8-9805-3c6d3f60a7e8\n",
      "  Args:\n",
      "=================================\u001b[1m Tool Message \u001b[0m=================================\n",
      "Name: transfer_back_to_supervisor\n",
      "\n",
      "Successfully transferred back to supervisor\n",
      "==================================\u001b[1m Ai Message \u001b[0m==================================\n",
      "Name: supervisor\n",
      "\n",
      "The current temperature in Delhi is 13°C. When you multiply it by 2, you get 26, and when you add 5, the result is 18.\n"
     ]
    }
   ],
   "source": [
    "# Compile and run\n",
    "app = workflow.compile()\n",
    "result = app.invoke({\n",
    "    \"messages\": [\n",
    "        {\n",
    "            \"role\": \"user\",\n",
    "            \"content\": \"what is the weather in delhi today. Multiply it by 2 and add 5\"\n",
    "        }\n",
    "    ]\n",
    "})\n",
    "\n",
    "for m in result[\"messages\"]:\n",
    "    m.pretty_print()"
   ]
  }
 ],
 "metadata": {
  "accelerator": "GPU",
  "colab": {
   "gpuType": "T4",
   "provenance": []
  },
  "kernelspec": {
   "display_name": "Python 3 (ipykernel)",
   "language": "python",
   "name": "python3"
  },
  "language_info": {
   "codemirror_mode": {
    "name": "ipython",
    "version": 3
   },
   "file_extension": ".py",
   "mimetype": "text/x-python",
   "name": "python",
   "nbconvert_exporter": "python",
   "pygments_lexer": "ipython3",
   "version": "3.11.6"
  }
 },
 "nbformat": 4,
 "nbformat_minor": 4
}
