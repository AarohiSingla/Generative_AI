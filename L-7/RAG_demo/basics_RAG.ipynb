{
 "cells": [
  {
   "cell_type": "code",
   "execution_count": 2,
   "id": "1e9cacce-6d9a-4570-965b-c74d41695a03",
   "metadata": {},
   "outputs": [],
   "source": [
    "from langchain_community.document_loaders import UnstructuredURLLoader\n",
    "urls = ['https://www.victoriaonmove.com.au/local-removalists.html','https://victoriaonmove.com.au/index.html','https://victoriaonmove.com.au/contact.html']\n",
    "loader = UnstructuredURLLoader(urls=urls)\n",
    "data = loader.load()  "
   ]
  },
  {
   "cell_type": "code",
   "execution_count": 5,
   "id": "3b0ac3d6-0c7c-499f-a7af-e6330ac08373",
   "metadata": {},
   "outputs": [
    {
     "data": {
      "text/plain": [
       "[Document(metadata={'source': 'https://www.victoriaonmove.com.au/local-removalists.html'}, page_content='Loading...\\n\\nHome\\n\\nLocal removalists\\n\\nLocal removalists\\n\\nInterstate removalists\\n\\nSydney interstate removalists\\n\\nMelbourne interstate removalists\\n\\nBrisbane interstate removalists\\n\\nAdelaide interstate removalists\\n\\nCanberra interstate removalists\\n\\nContact\\n\\nGet a quote\\n\\nLOCAL REMOVALS\\n\\nYour trusted partner in seamless moving and packing solutions!\\n\\nGoogle Rating\\n\\n5 stars, 111 reviews\\n\\nRequst A call for You:\\n\\nLocal removal services via \"Victoria on move\"\\r\\n                                Victoria on Move is your trusted local moving company in Melbourne, specializing in seamless relocation services. As experienced furniture movers and relocation experts, we provide top-notch packing and moving services tailored to your needs. Whether you\\'re moving across town or relocating interstate, our professional movers ensure a stress-free experience. Count on Victoria on Move for reliable removal services, making us the preferred choice among local movers in Melbourne. Discover why we\\'re recognized for our commitment to quality and customer satisfaction.\\n\\nApartment Moving\\r\\n                                Efficient and careful relocation services tailored for apartments of all sizes, ensuring smooth transitions to your new home.\\n\\nVilla Moving\\r\\n                                 Comprehensive moving solutions for large residences and villas, handling valuable possessions with utmost care and precision.\\n\\nHousehold Moving\\r\\n                                Full-service moving options for households, including packing, loading, transportation, and unpacking services to simplify your move.\\n\\nOffice Moving\\r\\n                                Specialized expertise in office relocations, minimizing downtime and ensuring your business operations continue seamlessly.\\n\\nFurniture Moving\\r\\n                                Experienced in handling furniture of all sizes and types, ensuring safe transport and setup in your new location.\\n\\nPacking and Unpacking Services\\r\\n                                Optional packing and unpacking services available to save you time and effort, using high-quality packing materials.\\n\\nCustomized Moving Plans\\r\\n                                Tailored moving plans to fit your specific requirements and schedule, providing personalized service and peace of mind.\\n\\nProfessional Team\\r\\n                                Experienced and courteous moving professionals dedicated to delivering exceptional service and customer satisfaction throughout the entire moving process.\\n\\nFind removalists travelling to or from Melbourne\\n\\nFrom Melbourne\\n\\nTo Melbourne\\n\\nMoving from Ballarat to Melbourne\\n\\nMoving from Bendigo to Melbourne\\n\\nMoving from Geelong to Melbourne\\n\\nMoving from Melton to Melbourne\\n\\nMoving from Mildura to Melbourne\\n\\nMoving from Mooroopna to Melbourne\\n\\nMoving from Shepparton to Melbourne\\n\\nMoving from Sunbury to Melbourne\\n\\nMoving from Traralgon to Melbourne\\n\\nMoving from Warrnambool to Melbourne\\n\\nMoving from Wodonga to Melbourne\\n\\nMoving from Melbourne to Ballarat\\n\\nMoving from Melbourne to Bendigo\\n\\nMoving from Melbourne to Geelong\\n\\nMoving from Melbourne to Melton\\n\\nMoving from Melbourne to Mildura\\n\\nMoving from Melbourne to Mooroopna\\n\\nMoving from Melbourne to Shepparton\\n\\nMoving from Melbourne to Sunbury\\n\\nMoving from Melbourne to Traralgon\\n\\nMoving from Melbourne to Warrnambool\\n\\nMoving from Melbourne to Wodonga\\n\\nLooking for interstate removalists Melbourne? We can also assist with interstate moves to or from Melbourne.\\n\\nGet In Touch\\n\\nWollert Victoria\\n\\n0404922328\\n\\nvictoriaonmove07@gmail.com\\n\\nQuick Links\\n\\nAbout Us\\n\\nContact Us\\n\\nOur Services\\n\\nTerms & Condition\\n\\nPhoto Gallery\\n\\nCheck us out on Google!\\n\\n\\r\\n                            © \\n\\nVictoria On Move 2024, All Right Reserved. \\r\\n\\t\\t\\t\\t\\t\\t\\t\\r\\n\\t\\t\\t\\t\\t\\t\\t\\r\\n\\t\\t\\t\\t\\t\\t\\tDesigned By\\n\\nHTML Codex\\n\\nHome'),\n",
       " Document(metadata={'source': 'https://victoriaonmove.com.au/index.html'}, page_content=\"Loading...\\n\\nHome\\n\\nLocal removalists\\n\\nLocal removalists\\n\\nInterstate removalists\\n\\nSydney interstate removalists\\n\\nMelbourne interstate removalists\\n\\nBrisbane interstate removalists\\n\\nAdelaide interstate removalists\\n\\nCanberra interstate removalists\\n\\nContact\\n\\nGallery\\n\\nGet a quote\\n\\nRelocate with confidence\\n\\nYour trusted partner in seamless moving and packing solutions!\\n\\nGoogle Rating\\n\\n5 stars, 111 reviews\\n\\nRequst A call for You:\\n\\nExplore Our Fleet\\n\\nVehicles Tailored for Your Moving Needs\\n\\nSmall Truck\\r\\n                                With 2 Mover\\r\\n\\t\\t\\t\\t\\t\\t\\t\\t From $130/hr\\r\\n\\t\\t\\t\\t\\t\\t\\t\\t    4.5 ton 20 cubic \\r\\n\\t\\t\\t\\t\\t\\t\\t\\t\\t\\t\\t\\t\\t\\t\\t\\t\\t \\r\\n                                Our Small Truck can manage a student apartment, small office .\\n\\nMedium Truck\\r\\n                                With 2 Mover\\r\\n\\t\\t\\t\\t\\t\\t\\t\\t From $145 p/hr\\r\\n\\t\\t\\t\\t\\t\\t\\t\\t    6 ton 30-35 cubic \\r\\n                               Our Medium trucks can manage 2-3 bedroom with single lounge outdoor boxes and miscellaneous.\\n\\nLarge Truck\\r\\n                                With 2 Mover\\r\\n\\t\\t\\t\\t\\t\\t\\t\\t From $155 p/hr\\r\\n\\t\\t\\t\\t\\t\\t\\t\\t    8 ton 40 cubic  \\r\\n\\t\\t\\t\\t\\t\\t\\t\\t\\t\\t\\t\\t\\t\\t\\t\\t\\t \\r\\n                               Our Large trucks can handle 3-4 bedrooms with double lounge outdoor boxes and miscellaneous.\\n\\nX-Large Truck\\r\\n                                With 2 Mover\\r\\n\\t\\t\\t\\t\\t\\t\\t\\t From $165 p/hr\\r\\n\\t\\t\\t\\t\\t\\t\\t\\t    4.5 ton 20 cubic \\r\\n\\t\\t\\t\\t\\t\\t\\t\\t    (10 ton or 50 cubic meter)\\r\\n\\t\\t\\t\\t\\t\\t\\t\\t\\t\\t\\t\\t\\t\\t\\t\\t\\t \\r\\n                               Our X-Large trucks can handle \\r\\n                            3-4 bedrooms double lounge outdoor miscellaneous items.\\n\\nOUR SERVICE\\n\\nWE OFFER QUICK & POWERFUL LOGISTICS SOLUTION\\n\\nFURNITURE REMOVALS:  We are the furniture removals specialists in Victoria. Our Teams are experienced and comes with Furniture moving equipments like- Trolleys. Blankets, Loading Ramps.\\n\\nINSURANCE:  Victoria On Move Pvt Ltd. look after your goods arrive safely at your destination. We have Transit and Public liability insurance. Transit insurance covers loading and unloading from vehicle , and Road accident cover.\\n\\n1 BED HOME:  \\r\\n1 Bed, Mattress, Tall Boy, Bedside, Refrigerator, Washing Machine, Some Boxes.\\n\\n2 BED HOME:  \\r\\n2 Beds, Mattress, Tall Boy, Bedside, Refrigerator, Washing Machine,Dresser, Barbeque, Some Boxes, Loose stuff.\\n\\nBig HOME:  \\r\\n4-5 Bed Room, Double Lounge, Mattress, Tall Boy, Bedside, Refrigerator, Washing Machine,Dresser, Barbeque, Some Boxes,Furniture, Loose stuff.\\n\\nGet a Quote\\n\\nInterstate Removalists:\\n\\nSeamless Relocation Across State Lines\\n\\nMelbourne to Sydney Removalists\\n\\nBook Now\\n\\nMelbourne to Brisbane Removalists\\n\\nBook Now\\n\\nMelbourne to Adelaide Removalists\\n\\nBook Now\\n\\nMelbourne to Canberra Removalists\\n\\nBook Now\\n\\nOUR MOVING WORK & ETHICS\\n\\nMoving house furniture is an art that comes with experience and a steadfast commitment to our customers' needs. It's a challenging industry, and not everyone survives for long without the expertise and dedication that we bring to every job. Our long history as Removalists in Melbourne is a testament to our sincerity and hard work.\\n\\nUnlike some other moving companies, we value the trust our customers place in us. Our customer reviews on Google are genuine, and we never manipulate them. We trust in our quality and experience and believe in our destiny to provide top-notch moving and packing services to our clients.\\n\\nContact Us\\n\\nOur Clients Say!\\n\\nDiscover firsthand experiences from our valued clients through their heartfelt testimonials. From seamless moves to exceptional service, our customers share how we've made their relocation journey stress-free and rewarding. Explore their stories and see why they trust us with their moves time and again.\\n\\nGet In Touch\\n\\nWollert Victoria\\n\\n0404922328\\n\\nvictoriaonmove07@gmail.com\\n\\nQuick Links\\n\\nAbout Us\\n\\nContact Us\\n\\nOur Services\\n\\nTerms & Condition\\n\\nPhoto Gallery\\n\\nCheck us out on Google!\\n\\n\\r\\n                            © \\n\\nVictoria On Move 2024, All Right Reserved. \\r\\n\\t\\t\\t\\t\\t\\t\\t\\r\\n\\t\\t\\t\\t\\t\\t\\t\\r\\n\\t\\t\\t\\t\\t\\t\\tDesigned By\\n\\nHTML Codex\\n\\nHome\"),\n",
       " Document(metadata={'source': 'https://victoriaonmove.com.au/contact.html'}, page_content='Loading...\\n\\nHome\\n\\nLocal removalists\\n\\nLocal removalists\\n\\nInterstate removalists\\n\\nSydney interstate removalists\\n\\nMelbourne interstate removalists\\n\\nBrisbane interstate removalists\\n\\nAdelaide interstate removalists\\n\\nCanberra interstate removalists\\n\\nContact\\n\\nGet a quote\\n\\nContact Us\\n\\nYou can contact us any way that is convenient for you. We are available 24/7 via fax or email. You can also use a quick contact form below or visit our office personally. We would be happy to answer your questions.\\n\\nWollert Victoria\\n\\nvictoriaonmove07@gmail.com\\n\\n0404922328\\n\\nDo you require packing & unpacking?\\n\\nE.g. packing of crockery and clothes in boxes.\\n\\nHouse Size (if applicable)\\n\\nTruck Size\\n\\nExtra Heavy Item\\n\\nStairs?\\n\\nFind removalists travelling interstate to or from Sydney\\n\\nFrom Sydney\\n\\nTo Sydney\\n\\nMoving from Adelaide to Sydney\\n\\nMoving from Ballarat to Sydney\\n\\nMoving from Bendigo to Sydney\\n\\nMoving from Brisbane to Sydney\\n\\nMoving from Cairns to Sydney\\n\\nMoving from Canberra to Sydney\\n\\nMoving from Darwin to Sydney\\n\\nMoving from Geelong to Sydney\\n\\nMoving from Gold Coast to Sydney\\n\\nMoving from Hobart to Sydney\\n\\nMoving from Melbourne to Sydney\\n\\nMoving from Perth to Sydney\\n\\nMoving from Tasmania to Sydney\\n\\nMoving from Sydney to Adelaide\\n\\nMoving from Sydney to Ballarat\\n\\nMoving from Sydney to Bendigo\\n\\nMoving from Sydney to Brisbane\\n\\nMoving from Sydney to Bunbury\\n\\nMoving from Sydney to Bundaberg\\n\\nMoving from Sydney to Cairns\\n\\nMoving from Sydney to Canberra\\n\\nMoving from Sydney to Darwin\\n\\nMoving from Sydney to Devonport\\n\\nMoving from Sydney to Fraser Coast\\n\\nMoving from Sydney to Geelong\\n\\nMoving from Sydney to Geraldton\\n\\nMoving from Sydney to Gladstone\\n\\nMoving from Sydney to Gold Coast\\n\\nMoving from Sydney to Hervey Bay\\n\\nMoving from Sydney to Hobart\\n\\nMoving from Sydney to Launceston\\n\\nMoving from Sydney to Mackay\\n\\nMoving from Sydney to Mandurah\\n\\nMoving from Sydney to Melbourne\\n\\nMoving from Sydney to Melton\\n\\nMoving from Sydney to Perth\\n\\nMoving from Sydney to Rockhampton\\n\\nMoving from Sydney to Shepparton\\n\\nMoving from Sydney to Sunshine Coast\\n\\nMoving from Sydney to Tasmania\\n\\nMoving from Sydney to Toowoomba\\n\\nMoving from Sydney to Townsville\\n\\nMoving from Sydney to Traralgon\\n\\nMoving from Sydney to Warrnambool\\n\\nIf you are in need of local removalists services in Sydney we can also help with professional movers for local moves.\\n\\nGet In Touch\\n\\nWollert Victoria\\n\\n0404922328\\n\\nvictoriaonmove07@gmail.com\\n\\nQuick Links\\n\\nAbout Us\\n\\nContact Us\\n\\nOur Services\\n\\nTerms & Condition\\n\\nPhoto Gallery\\n\\nCheck us out on Google!\\n\\n\\r\\n                            © \\n\\nVictoria On Move 2024, All Right Reserved. \\r\\n\\t\\t\\t\\t\\t\\t\\t\\r\\n\\t\\t\\t\\t\\t\\t\\t\\r\\n\\t\\t\\t\\t\\t\\t\\tDesigned By\\n\\nHTML Codex\\n\\nHome')]"
      ]
     },
     "execution_count": 5,
     "metadata": {},
     "output_type": "execute_result"
    }
   ],
   "source": [
    "data"
   ]
  },
  {
   "cell_type": "code",
   "execution_count": 6,
   "id": "f199854e-42d2-4357-bed2-f03d3e8e96d8",
   "metadata": {},
   "outputs": [
    {
     "name": "stdout",
     "output_type": "stream",
     "text": [
      "Total number of documents:  15\n"
     ]
    }
   ],
   "source": [
    "from langchain.text_splitter import RecursiveCharacterTextSplitter\n",
    "\n",
    "# split data\n",
    "text_splitter = RecursiveCharacterTextSplitter(chunk_size=1000)\n",
    "docs = text_splitter.split_documents(data)\n",
    "\n",
    "\n",
    "print(\"Total number of documents: \",len(docs))"
   ]
  },
  {
   "cell_type": "code",
   "execution_count": 9,
   "id": "0ecf3ac7-3181-4617-9390-fe4f3368f7a4",
   "metadata": {},
   "outputs": [
    {
     "data": {
      "text/plain": [
       "Document(metadata={'source': 'https://www.victoriaonmove.com.au/local-removalists.html'}, page_content='Loading...\\n\\nHome\\n\\nLocal removalists\\n\\nLocal removalists\\n\\nInterstate removalists\\n\\nSydney interstate removalists\\n\\nMelbourne interstate removalists\\n\\nBrisbane interstate removalists\\n\\nAdelaide interstate removalists\\n\\nCanberra interstate removalists\\n\\nContact\\n\\nGet a quote\\n\\nLOCAL REMOVALS\\n\\nYour trusted partner in seamless moving and packing solutions!\\n\\nGoogle Rating\\n\\n5 stars, 111 reviews\\n\\nRequst A call for You:')"
      ]
     },
     "execution_count": 9,
     "metadata": {},
     "output_type": "execute_result"
    }
   ],
   "source": [
    "docs[0]"
   ]
  },
  {
   "cell_type": "code",
   "execution_count": 11,
   "id": "5340b0ec-7555-4d58-a034-8acec8c70aff",
   "metadata": {},
   "outputs": [],
   "source": [
    "from langchain_chroma import Chroma\n",
    "from langchain_openai import OpenAIEmbeddings\n",
    "from langchain_openai import OpenAI\n",
    "from dotenv import load_dotenv\n",
    "load_dotenv()\n",
    "\n",
    "vectorstore = Chroma.from_documents(documents=docs, embedding=OpenAIEmbeddings())"
   ]
  },
  {
   "cell_type": "code",
   "execution_count": 12,
   "id": "95a78612-e69f-4a9f-9f66-77e11e52f794",
   "metadata": {},
   "outputs": [],
   "source": [
    "retriever = vectorstore.as_retriever(search_type=\"similarity\", search_kwargs={\"k\": 6})\n",
    "\n",
    "retrieved_docs = retriever.invoke(\"What kind of services they provide?\")\n"
   ]
  },
  {
   "cell_type": "code",
   "execution_count": 13,
   "id": "d4e7cca7-664b-462f-846c-6d63f67ad440",
   "metadata": {},
   "outputs": [
    {
     "data": {
      "text/plain": [
       "6"
      ]
     },
     "execution_count": 13,
     "metadata": {},
     "output_type": "execute_result"
    }
   ],
   "source": [
    "len(retrieved_docs)"
   ]
  },
  {
   "cell_type": "code",
   "execution_count": 14,
   "id": "12c016a2-08cf-44ec-9a24-b5c3593f8024",
   "metadata": {},
   "outputs": [
    {
     "name": "stdout",
     "output_type": "stream",
     "text": [
      "Apartment Moving\n",
      "                                Efficient and careful relocation services tailored for apartments of all sizes, ensuring smooth transitions to your new home.\n",
      "\n",
      "Villa Moving\n",
      "                                 Comprehensive moving solutions for large residences and villas, handling valuable possessions with utmost care and precision.\n",
      "\n",
      "Household Moving\n",
      "                                Full-service moving options for households, including packing, loading, transportation, and unpacking services to simplify your move.\n",
      "\n",
      "Office Moving\n",
      "                                Specialized expertise in office relocations, minimizing downtime and ensuring your business operations continue seamlessly.\n",
      "\n",
      "Furniture Moving\n",
      "                                Experienced in handling furniture of all sizes and types, ensuring safe transport and setup in your new location.\n"
     ]
    }
   ],
   "source": [
    "print(retrieved_docs[0].page_content)"
   ]
  },
  {
   "cell_type": "code",
   "execution_count": 15,
   "id": "2ef6353b-1fdd-4e7e-95e1-7c2e6846924f",
   "metadata": {},
   "outputs": [],
   "source": [
    "llm = OpenAI(temperature=0.4, max_tokens=500)"
   ]
  },
  {
   "cell_type": "code",
   "execution_count": 16,
   "id": "b100ad98-7922-47e8-bdcf-f8b2bd24a056",
   "metadata": {},
   "outputs": [],
   "source": [
    "from langchain.chains import create_retrieval_chain\n",
    "from langchain.chains.combine_documents import create_stuff_documents_chain\n",
    "from langchain_core.prompts import ChatPromptTemplate\n",
    "\n",
    "system_prompt = (\n",
    "    \"You are an assistant for question-answering tasks. \"\n",
    "    \"Use the following pieces of retrieved context to answer \"\n",
    "    \"the question. If you don't know the answer, say that you \"\n",
    "    \"don't know. Use three sentences maximum and keep the \"\n",
    "    \"answer concise.\"\n",
    "    \"\\n\\n\"\n",
    "    \"{context}\"\n",
    ")\n",
    "\n",
    "prompt = ChatPromptTemplate.from_messages(\n",
    "    [\n",
    "        (\"system\", system_prompt),\n",
    "        (\"human\", \"{input}\"),\n",
    "    ]\n",
    ")"
   ]
  },
  {
   "cell_type": "code",
   "execution_count": 17,
   "id": "2a0168bb-7d01-43fe-bf4a-39c50962164d",
   "metadata": {},
   "outputs": [],
   "source": [
    "\n",
    "question_answer_chain = create_stuff_documents_chain(llm, prompt)\n",
    "rag_chain = create_retrieval_chain(retriever, question_answer_chain)"
   ]
  },
  {
   "cell_type": "code",
   "execution_count": 18,
   "id": "aaffc0a9-276c-44bd-879d-54318ae0f698",
   "metadata": {},
   "outputs": [
    {
     "name": "stdout",
     "output_type": "stream",
     "text": [
      "\n",
      "\n",
      "System: Victoria on Move provides local and interstate removal services for residential and commercial properties. They also offer packing and unpacking services, as well as customized moving plans to fit specific requirements and schedules. Their team of experienced professionals ensures a stress-free and seamless moving experience for their customers.\n"
     ]
    }
   ],
   "source": [
    "response = rag_chain.invoke({\"input\": \"What kind of services they provide?\"})\n",
    "print(response[\"answer\"])"
   ]
  },
  {
   "cell_type": "code",
   "execution_count": null,
   "id": "d42dbf97-6559-407b-bd9d-499d3b13963f",
   "metadata": {},
   "outputs": [],
   "source": []
  }
 ],
 "metadata": {
  "kernelspec": {
   "display_name": "Python 3 (ipykernel)",
   "language": "python",
   "name": "python3"
  },
  "language_info": {
   "codemirror_mode": {
    "name": "ipython",
    "version": 3
   },
   "file_extension": ".py",
   "mimetype": "text/x-python",
   "name": "python",
   "nbconvert_exporter": "python",
   "pygments_lexer": "ipython3",
   "version": "3.10.14"
  }
 },
 "nbformat": 4,
 "nbformat_minor": 5
}
