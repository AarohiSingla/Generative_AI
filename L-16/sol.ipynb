{
 "cells": [
  {
   "cell_type": "code",
   "execution_count": 1,
   "id": "c37a48e9-002a-4d1e-8bd9-78b082b2656d",
   "metadata": {},
   "outputs": [
    {
     "name": "stdout",
     "output_type": "stream",
     "text": [
      "Name: langchain\n",
      "Version: 0.3.17\n",
      "Summary: Building applications with LLMs through composability\n",
      "Home-page: https://github.com/langchain-ai/langchain\n",
      "Author: \n",
      "Author-email: \n",
      "License: MIT\n",
      "Location: e:\\genertaive_ai_playlist\\0_langchain\\l-12_langgraph\\myvenv\\lib\\site-packages\n",
      "Requires: aiohttp, async-timeout, langchain-core, langchain-text-splitters, langsmith, numpy, pydantic, PyYAML, requests, SQLAlchemy, tenacity\n",
      "Required-by: langchain-community\n"
     ]
    }
   ],
   "source": [
    "!pip show langchain"
   ]
  },
  {
   "cell_type": "code",
   "execution_count": 2,
   "id": "d8acd74d-036a-476e-9f86-2ae59e004e8d",
   "metadata": {},
   "outputs": [
    {
     "name": "stdout",
     "output_type": "stream",
     "text": [
      "Name: langgraph\n",
      "Version: 0.2.69\n",
      "Summary: Building stateful, multi-actor applications with LLMs\n",
      "Home-page: https://www.github.com/langchain-ai/langgraph\n",
      "Author: \n",
      "Author-email: \n",
      "License: MIT\n",
      "Location: e:\\genertaive_ai_playlist\\0_langchain\\l-12_langgraph\\myvenv\\lib\\site-packages\n",
      "Requires: langchain-core, langgraph-checkpoint, langgraph-sdk\n",
      "Required-by: \n"
     ]
    }
   ],
   "source": [
    "!pip show langgraph\n"
   ]
  },
  {
   "cell_type": "code",
   "execution_count": 3,
   "id": "b5dff37a-1e15-467d-83d7-f69e40f4a347",
   "metadata": {},
   "outputs": [],
   "source": [
    "from langchain_ollama.llms import OllamaLLM\n",
    "\n",
    "#model = OllamaLLM(model=\"llama3.1\")\n",
    "model = OllamaLLM(model=\"deepseek-r1\")"
   ]
  },
  {
   "cell_type": "code",
   "execution_count": null,
   "id": "3142f8be-006b-4251-b8e1-bbb32b2bbe03",
   "metadata": {},
   "outputs": [
    {
     "name": "stdin",
     "output_type": "stream",
     "text": [
      "User:  hi\n"
     ]
    },
    {
     "name": "stdout",
     "output_type": "stream",
     "text": [
      "Assistant: <think>\n",
      "\n",
      "</think>\n",
      "\n",
      "Hello! How can I assist you today? 😊\n"
     ]
    },
    {
     "name": "stdin",
     "output_type": "stream",
     "text": [
      "User:  what is AGI\n"
     ]
    },
    {
     "name": "stdout",
     "output_type": "stream",
     "text": [
      "Assistant: <think>\n",
      "\n",
      "</think>\n",
      "\n",
      "AGI stands for Artificial General Intelligence. It refers to a type of artificial intelligence that possesses the ability to understand, learn, and apply knowledge across a wide range of tasks at a level comparable to human intelligence. Unlike Narrow AI, which is designed for specific tasks (e.g., facial recognition, language translation), AGI can perform any intellectual task that a human can do.\n",
      "\n",
      "Key characteristics of AGI include:\n",
      "\n",
      "1. **Generalization**: Ability to apply knowledge and skills across diverse domains.\n",
      "2. **Learning**: Capacity to learn from experience and improve over time.\n",
      "3. **Reasoning**: Capability to solve complex problems, make decisions, and reason abstractly.\n",
      "4. **Autonomy**: Functioning independently without human intervention.\n",
      "\n",
      "AGI remains a theoretical concept and has not yet been achieved. Current AI systems, such as Large Language Models (e.g., GPT-4), are examples of Narrow AI and have demonstrated impressive capabilities in specific areas but lack the general intelligence of AGI.\n"
     ]
    }
   ],
   "source": [
    "from typing import List, Dict\n",
    "from langgraph.graph import StateGraph, START, END\n",
    "\n",
    "# Step 1: Define State\n",
    "class State(Dict):\n",
    "    messages: List[Dict[str, str]] \n",
    "\n",
    "\n",
    "# Step 2: Initialize StateGraph\n",
    "graph_builder = StateGraph(State)\n",
    "\n",
    "llm = OllamaLLM(model=\"deepseek-r1\")\n",
    "\n",
    "# Define chatbot function\n",
    "def chatbot(state: State):\n",
    "    response = llm.invoke(state[\"messages\"])\n",
    "    state[\"messages\"].append({\"role\": \"assistant\", \"content\": response})  # Treat response as a string\n",
    "    return {\"messages\": state[\"messages\"]}\n",
    "\n",
    "\n",
    "# Add nodes and edges\n",
    "graph_builder.add_node(\"chatbot\", chatbot)\n",
    "graph_builder.add_edge(START, \"chatbot\")\n",
    "graph_builder.add_edge(\"chatbot\", END)\n",
    "\n",
    "# Compile the graph\n",
    "graph = graph_builder.compile()\n",
    "\n",
    "\n",
    "\n",
    "# Stream updates\n",
    "def stream_graph_updates(user_input: str):    \n",
    "    state = {\"messages\": [{\"role\": \"user\", \"content\": user_input}]}\n",
    "    for event in graph.stream(state):\n",
    "        for value in event.values():\n",
    "            print(\"Assistant:\", value[\"messages\"][-1][\"content\"])\n",
    "\n",
    "\n",
    "\n",
    "# Run chatbot in a loop\n",
    "if __name__ == \"__main__\":\n",
    "    while True:\n",
    "        try:\n",
    "            user_input = input(\"User: \")\n",
    "            if user_input.lower() in [\"quit\", \"exit\", \"q\"]:\n",
    "                print(\"Goodbye!\")\n",
    "                break\n",
    "\n",
    "            stream_graph_updates(user_input)\n",
    "        except Exception as e:\n",
    "            print(f\"An error occurred: {e}\")\n",
    "            break"
   ]
  },
  {
   "cell_type": "code",
   "execution_count": null,
   "id": "864e39de-e1d7-4536-ba94-2d394b162b8c",
   "metadata": {},
   "outputs": [],
   "source": []
  }
 ],
 "metadata": {
  "kernelspec": {
   "display_name": "Python 3 (ipykernel)",
   "language": "python",
   "name": "python3"
  },
  "language_info": {
   "codemirror_mode": {
    "name": "ipython",
    "version": 3
   },
   "file_extension": ".py",
   "mimetype": "text/x-python",
   "name": "python",
   "nbconvert_exporter": "python",
   "pygments_lexer": "ipython3",
   "version": "3.10.11"
  }
 },
 "nbformat": 4,
 "nbformat_minor": 5
}
