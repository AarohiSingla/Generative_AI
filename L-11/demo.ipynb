{
 "cells": [
  {
   "cell_type": "code",
   "execution_count": 4,
   "id": "f684a4d0-1cd9-459e-9762-0c597f8f0165",
   "metadata": {},
   "outputs": [],
   "source": [
    "from langchain.agents import initialize_agent, Tool\n",
    "from langchain.llms import OpenAI\n",
    "from langchain_community.utilities import SerpAPIWrapper\n",
    "\n",
    "\n",
    "from dotenv import load_dotenv\n",
    "import os\n",
    "\n",
    "load_dotenv()\n",
    "openai_api_key = os.getenv(\"OPENAI_API_KEY\")\n",
    "serpapi_api_key = os.getenv(\"SERPAPI_API_KEY\")"
   ]
  },
  {
   "cell_type": "code",
   "execution_count": 5,
   "id": "25eefd32-6140-42c4-99c9-9f6eb47a7d3d",
   "metadata": {},
   "outputs": [],
   "source": [
    "# https://serpapi.com/manage-api-key"
   ]
  },
  {
   "cell_type": "code",
   "execution_count": 6,
   "id": "f0781f96-f573-447f-977c-d693380fd20d",
   "metadata": {},
   "outputs": [
    {
     "name": "stderr",
     "output_type": "stream",
     "text": [
      "C:\\Users\\f\\AppData\\Local\\Temp\\ipykernel_18320\\3059657962.py:3: LangChainDeprecationWarning: The class `OpenAI` was deprecated in LangChain 0.0.10 and will be removed in 1.0. An updated version of the class exists in the :class:`~langchain-openai package and should be used instead. To use it run `pip install -U :class:`~langchain-openai` and import as `from :class:`~langchain_openai import OpenAI``.\n",
      "  llm = OpenAI(temperature=0.5)\n",
      "C:\\Users\\f\\AppData\\Local\\Temp\\ipykernel_18320\\3059657962.py:14: LangChainDeprecationWarning: LangChain agents will continue to be supported, but it is recommended for new use cases to be built with LangGraph. LangGraph offers a more flexible and full-featured framework for building agents, including support for tool-calling, persistence of state, and human-in-the-loop workflows. For details, refer to the `LangGraph documentation <https://langchain-ai.github.io/langgraph/>`_ as well as guides for `Migrating from AgentExecutor <https://python.langchain.com/docs/how_to/migrate_agent/>`_ and LangGraph's `Pre-built ReAct agent <https://langchain-ai.github.io/langgraph/how-tos/create-react-agent/>`_.\n",
      "  agent = initialize_agent(tools, llm, agent=\"zero-shot-react-description\", verbose=True)\n",
      "C:\\Users\\f\\AppData\\Local\\Temp\\ipykernel_18320\\3059657962.py:16: LangChainDeprecationWarning: The method `Chain.run` was deprecated in langchain 0.1.0 and will be removed in 1.0. Use :meth:`~invoke` instead.\n",
      "  response = agent.run(\"What’s the weather in Delhi?\")\n"
     ]
    },
    {
     "name": "stdout",
     "output_type": "stream",
     "text": [
      "\n",
      "\n",
      "\u001b[1m> Entering new AgentExecutor chain...\u001b[0m\n",
      "\u001b[32;1m\u001b[1;3m I should search for a weather website that can give me the current weather in Delhi\n",
      "Action: Search\n",
      "Action Input: \"weather in Delhi\"\u001b[0m\n",
      "Observation: \u001b[36;1m\u001b[1;3m{'type': 'weather_result', 'temperature': '56', 'unit': 'Fahrenheit', 'precipitation': '0%', 'humidity': '86%', 'wind': '2 mph', 'location': 'Delhi, India', 'date': 'Saturday 6:00 PM', 'weather': 'Mostly cloudy'}\u001b[0m\n",
      "\u001b[32;1m\u001b[1;3m I should check the temperature in Fahrenheit\n",
      "Action: Search\n",
      "Action Input: \"temperature in Fahrenheit\"\u001b[0m\n",
      "Observation: \u001b[36;1m\u001b[1;3m[{'link': 'https://www.reddit.com/r/AskAnAmerican/comments/tddlh6/what_is_your_ideal_weather_temperature_in/', 'source': 'Reddit', 'question': 'What is your ideal weather temperature (in fahrenheit)?', 'answer': 'About 72-75 is great for me. Quite low to “ideal” humidity preferred, small breezes ok, and sunny. That’s the weather today so it should be nice, until about 5pm when I’ll switch to a sweater.', 'votes': 62}, {'link': 'https://support.google.com/pixelphone/thread/295288209/at-a-glance-widget-temperature-in-f-not-c?hl=en', 'source': 'Google Help', 'question': 'At a Glance Widget Temperature in F not C', 'answer': 'I cleared the storage/cache of the weather app data and followed these steps :Settings > System > Languages > Regional preferences > Default to Celsius Once i restarted the Weather app, at a glance changed from F to C.', 'votes': 17}, {'link': 'https://android.stackexchange.com/questions/138322/google-app-displaying-temperature-in-fahrenheit', 'source': 'Android Enthusiasts Stack Exchange', 'question': 'Google app displaying temperature in Fahrenheit', 'answer': 'This problem apparently is due to the device language selection. If English (US) is chosen, Google defaults to temperature units used in US (Fahrenheit) This is remedied by switching over to English (UK), where temperature units are in Celsius Source: Accepted answer on Android wear,How do I change temperature units in Android wear weather app?', 'votes': 7}, {'link': 'https://stackoverflow.com/questions/75074546/need-both-celsius-and-fahrenheit-with-weatherkit', 'source': 'Stack Overflow', 'question': 'I have a weather app that tells the temperature in Celsius and Fahrenheit at the same time. I\\'d like to use WeatherKit, but I\\'m having trouble rounding Celsius down to no decimal places. I can do it with Fahrenheit with .formatted because I\\'m based in the US, but I can\\'t round down Celsius at the same time. Is there an easy way to do that in SwiftUI? Or is it possible to manually set the locale for just a single property? if let weather{ let celsiusWeather = weather.currentWeather.temperature.converted(to: .celsius).description VStack{ Text(\"New York\") .font(.largeTitle) Text(\"\\\\(weather.currentWeather.temperature.converted(to: .fahrenheit).formatted().description)\") Text(celsiusWeather) } } } This current code comes up with it half there: New York 45°F 5.98°C But I would like it simply be 6°C instead. I\\'ve tried string interpolation: let celsiusFormatted = String(format: \"%.0f\", celsiusWeather) and that just came up with 0, not even any of the temperature, so I\\'m not sure if because it\\'s from WeatherKit that it can do that or not. Any help would be great. Let me know if you need more code to help clarify.', 'answer': 'You can format the temperature using MeasurementFormatter. Remember to set numberFormatter.maximumFractionDigits = 0 to round the number as required and unitOptions = .providedUnit to ensure the correct units are displayed. struct ContentView: View { let temp: Measurement<UnitTemperature> var body: some View { VStack { HStack { Text(\"New York\") Text(temp, formatter: formatter) Text(temp.converted(to: .celsius), formatter: formatter) } } } var formatter: MeasurementFormatter { let formatter = MeasurementFormatter() formatter.unitStyle = .medium formatter.numberFormatter.maximumFractionDigits = 0 formatter.unitOptions = .providedUnit return formatter } }', 'votes': 4}]\u001b[0m\n",
      "\u001b[32;1m\u001b[1;3m I now know the final answer\n",
      "Final Answer: The temperature in Delhi is 56 degrees Fahrenheit.\u001b[0m\n",
      "\n",
      "\u001b[1m> Finished chain.\u001b[0m\n",
      "The temperature in Delhi is 56 degrees Fahrenheit.\n"
     ]
    }
   ],
   "source": [
    "search_tool = SerpAPIWrapper()\n",
    "\n",
    "llm = OpenAI(temperature=0.5)\n",
    "\n",
    "tools = [\n",
    "    Tool(\n",
    "        name=\"Search\",\n",
    "        func=search_tool.run,\n",
    "        description=\"Use this tool to perform web searches.\"\n",
    "    )\n",
    "]\n",
    "\n",
    "\n",
    "agent = initialize_agent(tools, llm, agent=\"zero-shot-react-description\", verbose=True)\n",
    "\n",
    "response = agent.run(\"What’s the weather in Delhi?\")\n",
    "print(response)"
   ]
  },
  {
   "cell_type": "code",
   "execution_count": null,
   "id": "8c1c0273-acbf-438a-997d-374e00ff0bb9",
   "metadata": {},
   "outputs": [],
   "source": []
  },
  {
   "cell_type": "code",
   "execution_count": null,
   "id": "665631f7-5623-40d3-a617-b18651f5f5a3",
   "metadata": {},
   "outputs": [],
   "source": []
  }
 ],
 "metadata": {
  "kernelspec": {
   "display_name": "Python 3 (ipykernel)",
   "language": "python",
   "name": "python3"
  },
  "language_info": {
   "codemirror_mode": {
    "name": "ipython",
    "version": 3
   },
   "file_extension": ".py",
   "mimetype": "text/x-python",
   "name": "python",
   "nbconvert_exporter": "python",
   "pygments_lexer": "ipython3",
   "version": "3.10.11"
  }
 },
 "nbformat": 4,
 "nbformat_minor": 5
}
