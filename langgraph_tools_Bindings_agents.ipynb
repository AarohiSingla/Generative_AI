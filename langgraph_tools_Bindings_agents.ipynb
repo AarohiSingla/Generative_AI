{
  "nbformat": 4,
  "nbformat_minor": 0,
  "metadata": {
    "colab": {
      "provenance": [],
      "gpuType": "T4"
    },
    "kernelspec": {
      "name": "python3",
      "display_name": "Python 3"
    },
    "language_info": {
      "name": "python"
    },
    "accelerator": "GPU"
  },
  "cells": [
    {
      "cell_type": "code",
      "source": [
        "!pip install --upgrade langchain langchain-community langgraph  openai langchain_openai"
      ],
      "metadata": {
        "id": "CrEJVfjvHDvC"
      },
      "execution_count": 1,
      "outputs": []
    },
    {
      "cell_type": "code",
      "source": [
        "from IPython.display import Image,display\n",
        "from langgraph.graph import StateGraph,START\n",
        "from langchain_openai import ChatOpenAI\n",
        "import requests\n",
        "from langchain_core.messages import SystemMessage, HumanMessage\n",
        "from langgraph.graph import MessagesState\n",
        "\n",
        "from langgraph.prebuilt import ToolNode, tools_condition\n",
        "\n",
        "from typing import Annotated\n",
        "from typing_extensions import TypedDict\n",
        "from langgraph.graph.message import add_messages"
      ],
      "metadata": {
        "id": "OGqH6zIhH3ZL"
      },
      "execution_count": 2,
      "outputs": []
    },
    {
      "cell_type": "code",
      "source": [
        "class State(TypedDict):\n",
        "    messages: Annotated[list, add_messages]"
      ],
      "metadata": {
        "id": "ivIYzyb_IFd9"
      },
      "execution_count": 3,
      "outputs": []
    },
    {
      "cell_type": "code",
      "source": [
        "!pip install -U duckduckgo-search"
      ],
      "metadata": {
        "colab": {
          "base_uri": "https://localhost:8080/"
        },
        "id": "22T0Y_7dIPjj",
        "outputId": "0456ed38-6d3f-44e7-9c28-964970b23e43"
      },
      "execution_count": 4,
      "outputs": [
        {
          "output_type": "stream",
          "name": "stdout",
          "text": [
            "Requirement already satisfied: duckduckgo-search in /usr/local/lib/python3.11/dist-packages (7.3.2)\n",
            "Requirement already satisfied: click>=8.1.8 in /usr/local/lib/python3.11/dist-packages (from duckduckgo-search) (8.1.8)\n",
            "Requirement already satisfied: primp>=0.11.0 in /usr/local/lib/python3.11/dist-packages (from duckduckgo-search) (0.12.1)\n",
            "Requirement already satisfied: lxml>=5.3.0 in /usr/local/lib/python3.11/dist-packages (from duckduckgo-search) (5.3.0)\n"
          ]
        }
      ]
    },
    {
      "cell_type": "code",
      "source": [
        "from langchain_community.tools import DuckDuckGoSearchRun\n",
        "search = DuckDuckGoSearchRun()\n",
        "search.invoke(\"Obama's first name?\")"
      ],
      "metadata": {
        "colab": {
          "base_uri": "https://localhost:8080/",
          "height": 139
        },
        "id": "MwOf8Y5DIYvS",
        "outputId": "32663cc1-a8a5-416f-930d-d7b747f6c30e"
      },
      "execution_count": 5,
      "outputs": [
        {
          "output_type": "execute_result",
          "data": {
            "text/plain": [
              "\"The Irish Sun, It's a fake Barack Obama's brother posts forged document he claims is ex-president's 'Kenyan birth certificate,' March 11, 2017 Salon, Orly Taitz is at it again , Sept. 4, 2009 The White House, official residence of the president of the United States, in July 2008. The president of the United States is the head of state and head of government of the United States, [1] indirectly elected to a four-year term via the Electoral College. [2] Under the U.S. Constitution, the officeholder leads the executive branch of the federal government and is the commander-in-chief of ... Born on August 4, 1961, in Honolulu, Hawaii, Obama is the first president born outside the continental United States. His full name is Barack Hussein Obama II, named after his father. Obama's mother, Ann Dunham, was from Kansas, while his father, Barack Obama Sr., hailed from Kenya. Here is a list of the presidents and vice presidents of the United States along with their parties and dates in office. ... Chester A Arthur: Twenty-First President of the United States. 10 Interesting Facts About James Buchanan. Martin Van Buren - Eighth President of the United States. Quotes From Harry S. Truman. The list of presidents and their full names are as follows (with shared names in bold): 1: George Washington 2: John Adams 3: Thomas Jefferson 4: James Madison Jr. 5: James Monroe 6: John Quincy Adams\""
            ],
            "application/vnd.google.colaboratory.intrinsic+json": {
              "type": "string"
            }
          },
          "metadata": {},
          "execution_count": 5
        }
      ]
    },
    {
      "cell_type": "code",
      "source": [
        "from langchain_community.tools import DuckDuckGoSearchRun\n",
        "\n",
        "def search_duckduckgo(query: str):\n",
        "    \"\"\"Searches DuckDuckGo using LangChain's DuckDuckGoSearchRun tool.\"\"\"\n",
        "    search = DuckDuckGoSearchRun()\n",
        "    return search.invoke(query)\n",
        "\n",
        "# Example usage\n",
        "result = search_duckduckgo(\"what are AI agent\")\n",
        "print(result)"
      ],
      "metadata": {
        "colab": {
          "base_uri": "https://localhost:8080/"
        },
        "id": "-DAzhxeaIYoC",
        "outputId": "0b441ff0-454f-406c-f407-19a923f32a61"
      },
      "execution_count": 6,
      "outputs": [
        {
          "output_type": "stream",
          "name": "stdout",
          "text": [
            "AI agents use feedback mechanisms, such as other AI agents and human-in-the-loop (HITL), to improve the accuracy of their responses. Let's return to our previous surfing example to highlight this. After the agent forms its response to the user, the agent stores the learned information along with the user's feedback to improve performance ... In this article. Azure AI Agent Service is a fully managed service designed to empower developers to securely build, deploy, and scale high-quality, and extensible AI agents without needing to manage the underlying compute and storage resources. What originally took hundreds of lines of code to support client side function calling can now be done in just a few lines of code with Azure AI Agent ... AI Agents in Healthcare and Finance . Healthcare: Babylon Health uses AI agents to provide initial symptom diagnoses, suggest possible conditions, and connect patients with medical professionals in real-time. This not only speeds up the process of seeking care but also helps reduce the workload on healthcare providers. AI agents are also being ... AI agents are also difficult to evaluate in a repeatable way that shows progress without employing artificial constraints. This is especially challenging as the core capabilities of the underlying LLMs continue to rapidly improve, which makes it difficult to know whether your approach has improved results or if it's simply the underlying ... Limitations of AI Agents. AI agents have undoubtedly transformed many industries, but they come with limitations that impact their reliability, adaptability, and ethical use. Here are some of the main limitations: Limited Understanding of Context Many AI agents lack the deep understanding of context that humans have.\n"
          ]
        }
      ]
    },
    {
      "cell_type": "code",
      "source": [
        "def multiply(a:int,b:int) -> int:\n",
        "    \"\"\"\n",
        "    Multiply a and b\n",
        "    \"\"\"\n",
        "    return a* b\n",
        "\n",
        "def add(a:int,b:int) -> int:\n",
        "    \"\"\"\n",
        "    Adds a and b\n",
        "    \"\"\"\n",
        "    return a + b"
      ],
      "metadata": {
        "id": "_RWRl15NIxhv"
      },
      "execution_count": 7,
      "outputs": []
    },
    {
      "cell_type": "code",
      "source": [
        "from langchain_openai import ChatOpenAI\n",
        "llm = ChatOpenAI(temperature=0, api_key='sk-proj-************************QHrtvM7', model=\"gpt-4o-mini\")\n"
      ],
      "metadata": {
        "id": "ZXmQdfkEJIZe"
      },
      "execution_count": 8,
      "outputs": []
    },
    {
      "cell_type": "code",
      "source": [
        "llm.invoke('hello').content"
      ],
      "metadata": {
        "colab": {
          "base_uri": "https://localhost:8080/",
          "height": 35
        },
        "id": "qVgcPrKYJRJD",
        "outputId": "dd01d0ef-8d3c-4f0a-e5fe-e82dcdf80d53"
      },
      "execution_count": 9,
      "outputs": [
        {
          "output_type": "execute_result",
          "data": {
            "text/plain": [
              "'Hello! How can I assist you today?'"
            ],
            "application/vnd.google.colaboratory.intrinsic+json": {
              "type": "string"
            }
          },
          "metadata": {},
          "execution_count": 9
        }
      ]
    },
    {
      "cell_type": "code",
      "source": [
        "tools = [search_duckduckgo, add, multiply]\n",
        "\n",
        "llm_with_tools = llm.bind_tools(tools)"
      ],
      "metadata": {
        "id": "_SiCnEY4JWzE"
      },
      "execution_count": 10,
      "outputs": []
    },
    {
      "cell_type": "code",
      "source": [
        "def chatbot(state: State):\n",
        "    return {\"messages\": [llm_with_tools.invoke(state[\"messages\"])]}\n",
        "\n"
      ],
      "metadata": {
        "id": "eqF4x1I7JsYA"
      },
      "execution_count": 11,
      "outputs": []
    },
    {
      "cell_type": "code",
      "source": [
        "from langgraph.prebuilt import ToolNode, tools_condition\n",
        "\n",
        "graph_builder = StateGraph(State)\n",
        "\n",
        "# Define nodes\n",
        "graph_builder.add_node(\"assistant\",chatbot)\n",
        "graph_builder.add_node(\"tools\",ToolNode(tools))\n",
        "\n",
        "#define edges\n",
        "graph_builder.add_edge(START,\"assistant\")\n",
        "graph_builder.add_conditional_edges(\"assistant\",tools_condition)\n",
        "graph_builder.add_edge(\"tools\",\"assistant\")\n",
        "\n",
        "react_graph=graph_builder.compile()"
      ],
      "metadata": {
        "id": "Pvn_gwVlKAll"
      },
      "execution_count": 14,
      "outputs": []
    },
    {
      "cell_type": "code",
      "source": [
        "# To see the graph’s connection visually\n",
        "\n",
        "display(Image(react_graph.get_graph().draw_mermaid_png()))"
      ],
      "metadata": {
        "colab": {
          "base_uri": "https://localhost:8080/",
          "height": 266
        },
        "id": "HaRoh_yFKl1R",
        "outputId": "c5384d80-b98b-447d-9ca4-7c274b8d3849"
      },
      "execution_count": 13,
      "outputs": [
        {
          "output_type": "display_data",
          "data": {
            "image/png": "[encoded data removed]",
            "text/plain": [
              "<IPython.core.display.Image object>"
            ]
          },
          "metadata": {}
        }
      ]
    },
    {
      "cell_type": "code",
      "source": [
        "response = react_graph.invoke({\"messages\": [HumanMessage(content=\"what is the weather in delhi. Multiply it by 2 and add 5.\")]})\n",
        "print(response[\"messages\"])"
      ],
      "metadata": {
        "colab": {
          "base_uri": "https://localhost:8080/"
        },
        "id": "uDxvi3DhKmdL",
        "outputId": "bee07501-229a-4a46-85f5-522393c7f80e"
      },
      "execution_count": 15,
      "outputs": [
        {
          "output_type": "stream",
          "name": "stdout",
          "text": [
            "[HumanMessage(content='what is the weather in delhi. Multiply it by 2 and add 5.', additional_kwargs={}, response_metadata={}, id='93dac111-0fcc-43df-a776-63f2ed10bbc1'), AIMessage(content='', additional_kwargs={'tool_calls': [{'id': 'call_UE8iSp1kzj5jwRaSvvuJOPne', 'function': {'arguments': '{\"query\":\"current weather in Delhi\"}', 'name': 'search_duckduckgo'}, 'type': 'function'}], 'refusal': None}, response_metadata={'token_usage': {'completion_tokens': 21, 'prompt_tokens': 117, 'total_tokens': 138, 'completion_tokens_details': {'accepted_prediction_tokens': 0, 'audio_tokens': 0, 'reasoning_tokens': 0, 'rejected_prediction_tokens': 0}, 'prompt_tokens_details': {'audio_tokens': 0, 'cached_tokens': 0}}, 'model_name': 'gpt-4o-mini-2024-07-18', 'system_fingerprint': 'fp_72ed7ab54c', 'finish_reason': 'tool_calls', 'logprobs': None}, id='run-c35cf1e8-c380-44f8-bb90-fdd28f4bf9ec-0', tool_calls=[{'name': 'search_duckduckgo', 'args': {'query': 'current weather in Delhi'}, 'id': 'call_UE8iSp1kzj5jwRaSvvuJOPne', 'type': 'tool_call'}], usage_metadata={'input_tokens': 117, 'output_tokens': 21, 'total_tokens': 138, 'input_token_details': {'audio': 0, 'cache_read': 0}, 'output_token_details': {'audio': 0, 'reasoning': 0}}), ToolMessage(content=\"Get today's real-time weather updates in New Delhi with hourly temperatures and a weekly forecast. Find out about New Delhi's temperature trends, rain chances, air quality (AQI), and humidity ... New Delhi Weather Forecasts. Weather Underground provides local & long-range weather forecasts, weatherreports, maps & tropical weather conditions for the New Delhi area. Current weather in New delhi is 16°C. Get today's New delhi weather report along with accurate forecast including hourly, weekly and monthly reports at Oneindia. Weather In Delhi The minimum temperature in Delhi today is likely to hover around 16 degrees Celsius, while the maximum temperature might reach 28 degrees Celsius. The mercury level is expected to hover around 20 degrees Celsius throughout the day, with the wind speed around 3.23. Current New Delhi weather condition is Mist with real-time temperature (26°C), humidity 32%, wind 7.9km/h, pressure (1012mb), UV (0), visibility (4.5km) in Delhi. ... The monthly weather averages in New Delhi consist of 23 sunny days, 1 cloudy days, 4 rainy days, and 0 snowy days. New Delhi - Weather Conditions. India. Locations. Temp. Condition.\", name='search_duckduckgo', id='c44d480f-48d1-433a-b24b-a1e2dab06eb0', tool_call_id='call_UE8iSp1kzj5jwRaSvvuJOPne'), AIMessage(content='', additional_kwargs={'tool_calls': [{'id': 'call_YNhb0BUlz0tCKMPEIbkvsLR9', 'function': {'arguments': '{\"a\": 26, \"b\": 2}', 'name': 'multiply'}, 'type': 'function'}, {'id': 'call_X23UW288LFmdl5ZNHiu7ZhUR', 'function': {'arguments': '{\"a\": 52, \"b\": 5}', 'name': 'add'}, 'type': 'function'}], 'refusal': None}, response_metadata={'token_usage': {'completion_tokens': 51, 'prompt_tokens': 397, 'total_tokens': 448, 'completion_tokens_details': {'accepted_prediction_tokens': 0, 'audio_tokens': 0, 'reasoning_tokens': 0, 'rejected_prediction_tokens': 0}, 'prompt_tokens_details': {'audio_tokens': 0, 'cached_tokens': 0}}, 'model_name': 'gpt-4o-mini-2024-07-18', 'system_fingerprint': 'fp_72ed7ab54c', 'finish_reason': 'tool_calls', 'logprobs': None}, id='run-b9f64c73-15d9-4f13-9971-a1eaac3da45a-0', tool_calls=[{'name': 'multiply', 'args': {'a': 26, 'b': 2}, 'id': 'call_YNhb0BUlz0tCKMPEIbkvsLR9', 'type': 'tool_call'}, {'name': 'add', 'args': {'a': 52, 'b': 5}, 'id': 'call_X23UW288LFmdl5ZNHiu7ZhUR', 'type': 'tool_call'}], usage_metadata={'input_tokens': 397, 'output_tokens': 51, 'total_tokens': 448, 'input_token_details': {'audio': 0, 'cache_read': 0}, 'output_token_details': {'audio': 0, 'reasoning': 0}}), ToolMessage(content='52', name='multiply', id='243384f9-7fbe-4056-b75f-e5eab4725f5f', tool_call_id='call_YNhb0BUlz0tCKMPEIbkvsLR9'), ToolMessage(content='57', name='add', id='d17c52ef-859e-455b-b8f0-1c7c91d25ea6', tool_call_id='call_X23UW288LFmdl5ZNHiu7ZhUR'), AIMessage(content='The current temperature in Delhi is 26°C. \\n\\n- When multiplied by 2, it equals 52.\\n- When you add 5 to that result, you get 57.\\n\\nSo, the final result is 57.', additional_kwargs={'refusal': None}, response_metadata={'token_usage': {'completion_tokens': 49, 'prompt_tokens': 463, 'total_tokens': 512, 'completion_tokens_details': {'accepted_prediction_tokens': 0, 'audio_tokens': 0, 'reasoning_tokens': 0, 'rejected_prediction_tokens': 0}, 'prompt_tokens_details': {'audio_tokens': 0, 'cached_tokens': 0}}, 'model_name': 'gpt-4o-mini-2024-07-18', 'system_fingerprint': 'fp_72ed7ab54c', 'finish_reason': 'stop', 'logprobs': None}, id='run-4ce48b11-832d-4d7d-a4e9-6f6d564de14a-0', usage_metadata={'input_tokens': 463, 'output_tokens': 49, 'total_tokens': 512, 'input_token_details': {'audio': 0, 'cache_read': 0}, 'output_token_details': {'audio': 0, 'reasoning': 0}})]\n"
          ]
        }
      ]
    }
  ]
}